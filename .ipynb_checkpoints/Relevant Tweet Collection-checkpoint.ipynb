{
 "cells": [
  {
   "cell_type": "markdown",
   "metadata": {},
   "source": [
    "## Tweepy"
   ]
  },
  {
   "cell_type": "code",
   "execution_count": 3,
   "metadata": {
    "collapsed": true
   },
   "outputs": [],
   "source": [
    "import tweepy\n",
    "import json\n",
    "from simplejson import loads, dumps\n",
    "from tweepy.streaming import StreamListener\n",
    "import ast\n",
    "consumer_key = 'fhHdOl6iEQjhCdsOEbKckdz15'\n",
    "consumer_sec = 'xsBg1j04Oam2nKWcNHW3ioH8fPwOyYHgQdm3cuQDs7tWLQfVQb'\n",
    "auth = tweepy.OAuthHandler(consumer_key, consumer_sec)\n",
    "access_token = '1146859238-dowHot8BUaoAD2GaF8c4mdUSucWHvrjk95G5uVP'\n",
    "access_token_sec = 'EVoHQ1rbzOGHw6eyYO6F7nioSWqsWFbm1DJ5QptdLEz29'\n",
    "auth.set_access_token(access_token, access_token_sec)\n",
    "\n",
    "api = tweepy.API(auth)\n",
    "public_tweets = api.home_timeline()\n",
    "# for tweet in public_tweets:\n",
    "#     print tweet.text\n",
    "    "
   ]
  },
  {
   "cell_type": "code",
   "execution_count": 4,
   "metadata": {},
   "outputs": [],
   "source": [
    "# initializing structures for extracting tweets\n",
    "result = []\n",
    "unique_tweet = {}\n",
    "\n",
    "# loading from previous structures\n",
    "with open('tweet.json') as json_data:\n",
    "    result = json.load(json_data)\n",
    "\n",
    "for tweet in result:\n",
    "    unique_tweet[tweet['tweet_id']] = 1\n",
    "#     since_id_march4 = tweet['tweet_id']\n"
   ]
  },
  {
   "cell_type": "code",
   "execution_count": 5,
   "metadata": {
    "collapsed": true
   },
   "outputs": [],
   "source": [
    "# api.search function wrapper\n",
    "def api_search(result, unique_tweet, place_id, query_term):\n",
    "#     places = api.geo_search(query=query_country, granularity=\"country\")\n",
    "#     place_id = places[0].id\n",
    "#     #print('cancer ' + \"place:%s\" % place_id)\n",
    "    print query_term\n",
    "    tweets = api.search(q= query_term + \" place:%s\" % place_id, since_id = 895384637974990849) # arbitrary id from years ago\n",
    "    for tweet in tweets:\n",
    "        print tweet.text + \" | \" + tweet.place.name if tweet.place else \"Undefined place\"\n",
    "        print tweet.user.screen_name, tweet.user.id, tweet.user.name\n",
    "        print tweet.place.country\n",
    "        if tweet.id not in unique_tweet:     \n",
    "            result.append({\n",
    "                'tweet_text': tweet.text, \n",
    "                'tweet_place': tweet.place.name,\n",
    "                'tweet_country': tweet.place.country,\n",
    "                'tweet_id': tweet.id,\n",
    "                'user_screen_name': tweet.user.screen_name,\n",
    "                'user_name': tweet.user.name,\n",
    "                'user_id': tweet.user.id,\n",
    "                'tweet_time': str(tweet.created_at),\n",
    "            })\n",
    "            unique_tweet[tweet.id] = 1"
   ]
  },
  {
   "cell_type": "markdown",
   "metadata": {},
   "source": [
    "# Using API.search function to get past tweets"
   ]
  },
  {
   "cell_type": "code",
   "execution_count": 6,
   "metadata": {},
   "outputs": [
    {
     "name": "stdout",
     "output_type": "stream",
     "text": [
      "Place(_api=<tweepy.api.API object at 0x114134890>, country_code=u'ZA', url=u'https://api.twitter.com/1.1/geo/id/dd9c0d7d7e07eb49.json', country=u'South Africa', place_type=u'country', bounding_box=BoundingBox(_api=<tweepy.api.API object at 0x114134890>, type=u'Polygon', coordinates=[[[16.4475932, -34.8342468], [16.4475932, -22.1247236], [32.8922934, -22.1247236], [32.8922934, -34.8342468], [16.4475932, -34.8342468]]]), contained_within=[], centroid=[26.128478132597408, -28.4794852], full_name=u'South Africa', attributes={}, id=u'dd9c0d7d7e07eb49', name=u'South Africa')\n",
      "cancer\n",
      "i don't care tbh . imagine stopping because of cancer , can never be me . https://t.co/NuFzMartU6 | Centurion\n",
      "_Mthusi 137951408 Mthusi Maepa .\n",
      "South Africa\n",
      "tumor\n",
      "tumour\n",
      "@pierredevos The man is terminal - the tumour took his conscience | Sandton\n",
      "sjgrimsley 877257354 Selwyn Grimsley\n",
      "South Africa\n",
      "leukaemia\n",
      "leukemia\n",
      "@Nick_Frost @Marijkexrukia @mrkoodge @B_radizzle @Solly74 This thread as well as the current state of the timeline… https://t.co/NA3zxEKo3T | Cape Town\n",
      "MovesLikeDragan 52411136 Kuruzović Don't Kill my Vibe\n",
      "South Africa\n",
      "lymphoma\n",
      "Dear Colleagues,\n",
      "Dr Amando Nkoane will be presenting “Lymphoma” on 16 March 2018 at 14:00 South African time… https://t.co/yMMkoXktxM | Cape Town\n",
      "WOFAPS 129109365 WOFAPS\n",
      "South Africa\n",
      "CML\n",
      "burkitt\n"
     ]
    }
   ],
   "source": [
    "# start collecting here\n",
    "\n",
    "# South Africa\n",
    "places = api.geo_search(query='South Africa', granularity=\"country\")\n",
    "place_id = places[0].id\n",
    "print places[0]\n",
    "south_africa_coordinates = places[0].bounding_box.coordinates\n",
    "#print('cancer ' + \"place:%s\" % place_id)\n",
    "\n",
    "# cancer\n",
    "api_search(result, unique_tweet, place_id, 'cancer')\n",
    "    \n",
    "# tumor\n",
    "api_search(result, unique_tweet, place_id, 'tumor')\n",
    "        \n",
    "# tumour\n",
    "api_search(result, unique_tweet, place_id, 'tumour')\n",
    "        \n",
    "# Leukaemia\n",
    "api_search(result, unique_tweet, place_id, 'leukaemia')\n",
    "        \n",
    "# Leukemia\n",
    "api_search(result, unique_tweet, place_id, 'leukemia')\n",
    "        \n",
    "# Lymphoma\n",
    "api_search(result, unique_tweet, place_id, 'lymphoma')\n",
    "        \n",
    "# CML\n",
    "api_search(result, unique_tweet, place_id, 'CML')\n",
    "        \n",
    "# Burkitt\n",
    "api_search(result, unique_tweet, place_id, 'burkitt')"
   ]
  },
  {
   "cell_type": "code",
   "execution_count": 7,
   "metadata": {},
   "outputs": [
    {
     "name": "stdout",
     "output_type": "stream",
     "text": [
      "cancer\n",
      "40,000+ Kenyans are diagnosed with #cancer annually, and the disease kills about 15,000 people every year, accordin… https://t.co/qEpb18wJR1 | Nairobi\n",
      "PhilipOgola 20156224 Digital Humanitarian\n",
      "Kenya\n",
      "Cancer has no place in football. Great great stuff. \n",
      "\n",
      "💜💜💜 https://t.co/OCch2LE3Zd | Nyali\n",
      "KenyanAlmighty 231030934 The Theory Of Everything\n",
      "Kenya\n",
      "Why can't we have a national Cancer centre fully equipped.? 24 years of Moi ..10years of kibaki 4years of Uhuru and… https://t.co/ovtgQZtToA | Nairobi\n",
      "luisgideonsnr 227290429 luisgideon Njõrõgè\n",
      "Kenya\n",
      "Unajinyima Red meat juu ya cancer\n",
      "Unatumia condom ukinyandua hunnay\n",
      "Unaavoid Nairobi time ya floods\n",
      "Unalenga demons… https://t.co/gzq7Ka6FoJ | Rift Valley\n",
      "boychild_k 4264362267 ..\n",
      "Kenya\n",
      "tumor\n",
      "Medical appeal for Mildred Obadha diagnosed w/brain tumor. KES 2 million(USD 20,000) required for surgery to… https://t.co/4lA6Iqr9uw | Athi River\n",
      "Carole_Opile 2217764726 Caroline Opile\n",
      "Kenya\n",
      "tumour\n",
      "Leukaemia\n",
      "leukemia\n",
      "Smoking causes cancers of the  \n",
      "1 lung, \n",
      "2 esophagus, \n",
      "3 larynx, \n",
      "4 mouth, \n",
      "5 throat, \n",
      "6 kidney, \n",
      "7 bladder, \n",
      "8 liv… https://t.co/bmgzyhN8UB | Kenya\n",
      "andrewsuleh 1901033312 Dr Andrew Suleh MD\n",
      "Kenya\n",
      "lymphoma\n",
      "CML\n",
      "imaraadka waa dumarka somalia cml diraca am cabayad ayey nal xirtaan oo qaali ka dhigeyna | Nairobi\n",
      "xiis_xubi 972395737463033857 Xiis Xarago  Xubi\n",
      "Kenya\n",
      "burkitt\n"
     ]
    }
   ],
   "source": [
    "# Kenya\n",
    "places = api.geo_search(query='Kenya', granularity=\"country\")\n",
    "place_id = places[0].id\n",
    "kenya_coordinates = places[0].bounding_box.coordinates\n",
    "\n",
    "# cancer\n",
    "api_search(result, unique_tweet, place_id, 'cancer')\n",
    "    \n",
    "# tumor\n",
    "api_search(result, unique_tweet, place_id, 'tumor')\n",
    "        \n",
    "# tumour\n",
    "api_search(result, unique_tweet, place_id, 'tumour')\n",
    "        \n",
    "# Leukaemia\n",
    "api_search(result, unique_tweet, place_id, 'Leukaemia')\n",
    "        \n",
    "# Leukemia\n",
    "api_search(result, unique_tweet, place_id, 'leukemia')\n",
    "        \n",
    "# Lymphoma\n",
    "api_search(result, unique_tweet, place_id, 'lymphoma')\n",
    "        \n",
    "# CML\n",
    "api_search(result, unique_tweet, place_id, 'CML')\n",
    "        \n",
    "# Burkitt\n",
    "api_search(result, unique_tweet, place_id, 'burkitt')"
   ]
  },
  {
   "cell_type": "code",
   "execution_count": 8,
   "metadata": {},
   "outputs": [
    {
     "name": "stdout",
     "output_type": "stream",
     "text": [
      "cancer\n",
      "#BBNaija: Early hour of today, @sirleobdasilva popularly known as #LEO loses mum to cancer 😭😭😭😭😭😭😭😭😭😭😭\n",
      "-\n",
      "Leo shared… https://t.co/XeXipn4CZJ | Ikeja\n",
      "Degeniusmedia 886660833228599296 TheGenius Media\n",
      "Nigeria\n",
      "Types of cancer \n",
      "1.Basal cell cancer :It's a type of skin cancer that begins in the basal cells #Mycancerview | Ikeja\n",
      "abdulakeemibra4 2280571116 abdul akeem ibrahim\n",
      "Nigeria\n",
      "kill cancer before it destroys u #Mycancerview | Ikeja\n",
      "abdulakeemibra4 2280571116 abdul akeem ibrahim\n",
      "Nigeria\n",
      "Join the conversation against cancer #Mycancerview | Ikeja\n",
      "abdulakeemibra4 2280571116 abdul akeem ibrahim\n",
      "Nigeria\n",
      "Cancer should be ruled out though, it doesn't have respect for credit alert. https://t.co/in3bBKqh9V | Ikeja\n",
      "firstclassjerry 141661137 TOLUWALASE\n",
      "Nigeria\n",
      "tumor\n",
      "Cancer teatment modalities directed at the primary tumor (surgery or radiation), and potential metastases (spread)… https://t.co/VuqsIJEl5G | Lagos\n",
      "kolayodam 216572559 Dr • Dharmie • keys™🇳🇬\n",
      "Nigeria\n",
      "Radiation is sometimes recommended after\n",
      "mastectomy in the case of larger tumors or node-involved\n",
      "breast cancers. O… https://t.co/0l9JpAOcWa | Nigeria\n",
      "rad_marvy 873046736591142912 Marvellous Olusegun\n",
      "Nigeria\n",
      "Treatment: Treatment usually involves either breastconserving\n",
      "surgery (surgical removal of the tumor and\n",
      "surroundin… https://t.co/A9bJ7HPrQE | Nigeria\n",
      "rad_marvy 873046736591142912 Marvellous Olusegun\n",
      "Nigeria\n",
      "tumour\n",
      "Suspected Cancerous Tumour: 8- Year Old Precious Call On Nigerians For Donation Of N2 Million For Surgery… https://t.co/0otxrco87v | Ikeja\n",
      "samade327 1948135201 'Yanju Uwala™\n",
      "Nigeria\n",
      "How fruits, vegetables prevent tumour growth | Uyo\n",
      "useoffot 782120916738277376 Blessed 💦\n",
      "Nigeria\n",
      "leukaemia\n",
      "leukemia\n",
      "lymphoma\n",
      "; a history of ductal or\n",
      "lobular carcinoma in situ; high-dose radiation to the\n",
      "chest at a young age (e.g., for trea… https://t.co/A9SI2p2Omh | Nigeria\n",
      "rad_marvy 873046736591142912 Marvellous Olusegun\n",
      "Nigeria\n",
      "CML\n",
      "@shipperbyheart @greice_gpcat @NephilimUpdates @Ketz_CML @MatthewDaddario @ShadowhuntersTV @ShadowhuntersWR… https://t.co/J3BRiRoFMQ | Nigeria\n",
      "d_liketheletter 877108865300660224 Kelani\n",
      "Nigeria\n",
      "burkitt\n"
     ]
    }
   ],
   "source": [
    "# Nigeria\n",
    "places = api.geo_search(query=\"Nigeria\", granularity=\"country\")\n",
    "place_id = places[0].id\n",
    "nigeria_coordinates = places[0].bounding_box.coordinates\n",
    "#print('cancer ' + \"place:%s\" % place_id)\n",
    "\n",
    "# cancer\n",
    "api_search(result, unique_tweet, place_id, 'cancer')\n",
    "\n",
    "# tumor\n",
    "api_search(result, unique_tweet, place_id, 'tumor')\n",
    "        \n",
    "# tumour\n",
    "api_search(result, unique_tweet, place_id, 'tumour')\n",
    "        \n",
    "# Leukaemia\n",
    "api_search(result, unique_tweet, place_id, 'leukaemia')\n",
    "        \n",
    "# Leukemia\n",
    "api_search(result, unique_tweet, place_id, 'leukemia')\n",
    "        \n",
    "# Lymphoma\n",
    "api_search(result, unique_tweet, place_id, 'lymphoma')\n",
    "        \n",
    "# CML\n",
    "api_search(result, unique_tweet, place_id, 'CML')\n",
    "        \n",
    "# Burkitt\n",
    "api_search(result, unique_tweet, place_id, 'burkitt')"
   ]
  },
  {
   "cell_type": "code",
   "execution_count": 9,
   "metadata": {
    "collapsed": true
   },
   "outputs": [],
   "source": [
    "# adding tweet information to json file\n",
    "js = json.dumps(result, sort_keys=True, indent=4, separators=(',', ': '))\n",
    "with open('tweet.json', 'w+') as f:\n",
    "    f.write(js)"
   ]
  },
  {
   "cell_type": "code",
   "execution_count": 10,
   "metadata": {
    "collapsed": true
   },
   "outputs": [],
   "source": [
    "# id of tweet on Feb 28th 2018\n",
    "since_id_feb28 = 968897814246936577\n",
    "\n",
    "# id of tweet on march 4th 2018\n",
    "since_id_march4 = 970419633978212352"
   ]
  },
  {
   "cell_type": "code",
   "execution_count": 11,
   "metadata": {},
   "outputs": [
    {
     "data": {
      "text/plain": [
       "11252"
      ]
     },
     "execution_count": 11,
     "metadata": {},
     "output_type": "execute_result"
    }
   ],
   "source": [
    "# current number of tweets\n",
    "len(result)"
   ]
  },
  {
   "cell_type": "markdown",
   "metadata": {},
   "source": [
    "\n",
    "Tumor/tumour (UK vs UK spelling)\n",
    "\n",
    "Leukaemia/Leukemia\n",
    "\n",
    "Lymphoma\n",
    "\n",
    "CML\n",
    "\n",
    "Burkitt"
   ]
  },
  {
   "cell_type": "markdown",
   "metadata": {},
   "source": [
    "Questions: \n",
    "1. How to find tweets that are not geotagged, somehow?\n",
    "\n",
    "use streaming API (can get larger amounts of tweets, can use list of keywords, don't include punctuations in the keyword search)\n",
    "\n",
    "dont trust screen_name too much, user_id is more helpful\n",
    "\n",
    "use user location, should be pretty reliable on locating tweets in the spcified location\n",
    "\n",
    "go to user timeline, cannot search by keywords here (3200 tweets of most recent)\n",
    "\n",
    "more than 200,000/300,000 tweets then use database\n",
    "\n",
    "Talk to Yehoda about what to do after extraction of tweets\n"
   ]
  },
  {
   "cell_type": "markdown",
   "metadata": {},
   "source": [
    "# Using streaming API to get tweets from real time"
   ]
  },
  {
   "cell_type": "code",
   "execution_count": 12,
   "metadata": {
    "collapsed": true
   },
   "outputs": [],
   "source": [
    "#This is a basic listener that just prints received tweets to stdout.\n",
    "user_locations = [\"South Africa\", \"Kenya\", 'Nigeria', 'Johannesburg, South Africa', \n",
    "                  'Cape Town, South Africa', 'Durban, South Africa', 'Lagos, Nigeria', 'Nairobi, Kenya',\n",
    "                 'Mombasa, Kenya', 'Nakuru, Kenya', 'Kano, Nigeria']\n",
    "class StdOutListener(StreamListener):\n",
    "\n",
    "    def on_data(self, data):\n",
    "        #print data\n",
    "        json_data = json.loads(data)\n",
    "        if (json_data['place'] != None and json_data['place']['country'] in [\"South Africa\", \"Kenya\", 'Nigeria']) or json_data['user']['location'] in user_locations:\n",
    "            if json_data['id'] not in unique_tweet:\n",
    "                unique_tweet[json_data['id']] = 1\n",
    "                print \"one more tweet!\"\n",
    "                place = \"\"\n",
    "                country = \"\"\n",
    "                if json_data['place'] == None:\n",
    "                    place = json_data['user']['location']\n",
    "                    country = json_data['user']['location']\n",
    "                else:\n",
    "                    print \"here1\"\n",
    "                    print json_data['place']['name'], json_data['place']['country']\n",
    "                    print \"here2\"\n",
    "                    place = json_data['place']['name']\n",
    "                    country = json_data['place']['country']\n",
    "                    \n",
    "                streaming_result = {\n",
    "                    'tweet_text': json_data['text'], \n",
    "                    'tweet_place': place,\n",
    "                    'tweet_country': country,\n",
    "                    'tweet_id': json_data['id'],\n",
    "                    'user_screen_name': json_data['user']['screen_name'],\n",
    "                    'user_name': json_data['user']['name'],\n",
    "                    'user_id': json_data['user']['id'],\n",
    "                    'tweet_time': str(json_data['created_at'])\n",
    "                }\n",
    "                print streaming_result\n",
    "                js = json.dumps(streaming_result, sort_keys=True, indent=4, separators=(',', ': '))\n",
    "                with open('tweet.json', 'a+') as f:\n",
    "                    f.write(',')\n",
    "                    f.write(js)\n",
    "                    print js\n",
    "        return True\n",
    "\n",
    "    def on_error(self, status):\n",
    "        print status\n",
    "\n",
    "l = StdOutListener()\n",
    "stream = tweepy.Stream(auth, l)"
   ]
  },
  {
   "cell_type": "code",
   "execution_count": 13,
   "metadata": {},
   "outputs": [
    {
     "name": "stdout",
     "output_type": "stream",
     "text": [
      "([[[16.4475932, -34.8342468], [16.4475932, -22.1247236], [32.8922934, -22.1247236], [32.8922934, -34.8342468], [16.4475932, -34.8342468]]], [[[33.9105011, -4.7672356], [33.9105011, 4.631608], [41.8998666, 4.631608], [41.8998666, -4.7672356], [33.9105011, -4.7672356]]], [[[2.6654364, 4.1974055], [2.6654364, 13.8881151], [14.6777951, 13.8881151], [14.6777951, 4.1974055], [2.6654364, 4.1974055]]])\n",
      "[16.4475932, -34.8342468, 32.8922934, -22.1247236, 33.9105011, -4.7672356, 41.8998666, 4.631608, 2.6654364, 4.1974055, 14.6777951, 13.8881151]\n"
     ]
    }
   ],
   "source": [
    "# bounding box coordinates of three countries\n",
    "print(south_africa_coordinates, kenya_coordinates, nigeria_coordinates)\n",
    "\n",
    "# combine them together for streaming purpose\n",
    "coordinates = south_africa_coordinates[0][0] + south_africa_coordinates[0][2] + kenya_coordinates[0][0] + kenya_coordinates[0][2] + nigeria_coordinates[0][0] + nigeria_coordinates[0][2]\n",
    "print coordinates\n",
    "\n",
    "# keywords for search\n",
    "keywords = ['cancer', 'tumor', 'tumour', 'leukaemia', 'leukemia', 'lymphoma', 'cml', 'burkitt']"
   ]
  },
  {
   "cell_type": "code",
   "execution_count": null,
   "metadata": {},
   "outputs": [],
   "source": [
    "stream.filter(track = keywords)#locations = coordinates)"
   ]
  }
 ],
 "metadata": {
  "kernelspec": {
   "display_name": "Python 2",
   "language": "python",
   "name": "python2"
  },
  "language_info": {
   "codemirror_mode": {
    "name": "ipython",
    "version": 2
   },
   "file_extension": ".py",
   "mimetype": "text/x-python",
   "name": "python",
   "nbconvert_exporter": "python",
   "pygments_lexer": "ipython2",
   "version": "2.7.14"
  }
 },
 "nbformat": 4,
 "nbformat_minor": 2
}
