{
 "cells": [
  {
   "cell_type": "markdown",
   "metadata": {},
   "source": [
    "## Tweepy"
   ]
  },
  {
   "cell_type": "code",
   "execution_count": 1,
   "metadata": {
    "collapsed": true
   },
   "outputs": [],
   "source": [
    "import tweepy\n",
    "import json\n",
    "from simplejson import loads, dumps\n",
    "from tweepy.streaming import StreamListener\n",
    "import ast\n",
    "consumer_key = 'fhHdOl6iEQjhCdsOEbKckdz15'\n",
    "consumer_sec = 'xsBg1j04Oam2nKWcNHW3ioH8fPwOyYHgQdm3cuQDs7tWLQfVQb'\n",
    "auth = tweepy.OAuthHandler(consumer_key, consumer_sec)\n",
    "access_token = '1146859238-dowHot8BUaoAD2GaF8c4mdUSucWHvrjk95G5uVP'\n",
    "access_token_sec = 'EVoHQ1rbzOGHw6eyYO6F7nioSWqsWFbm1DJ5QptdLEz29'\n",
    "auth.set_access_token(access_token, access_token_sec)\n",
    "\n",
    "api = tweepy.API(auth)\n",
    "public_tweets = api.home_timeline()\n",
    "# for tweet in public_tweets:\n",
    "#     print tweet.text\n",
    "    "
   ]
  },
  {
   "cell_type": "code",
   "execution_count": 3,
   "metadata": {},
   "outputs": [],
   "source": [
    "# initializing structures for extracting tweets\n",
    "result = []\n",
    "unique_tweet = {}\n",
    "\n",
    "# loading from previous structures\n",
    "with open('tweet.json') as json_data:\n",
    "    result = json.load(json_data)\n",
    "\n",
    "for tweet in result:\n",
    "    unique_tweet[tweet['tweet_id']] = 1\n",
    "#     since_id_march4 = tweet['tweet_id']\n"
   ]
  },
  {
   "cell_type": "code",
   "execution_count": 4,
   "metadata": {
    "collapsed": true
   },
   "outputs": [],
   "source": [
    "# api.search function wrapper\n",
    "def api_search(result, unique_tweet, place_id, query_term):\n",
    "#     places = api.geo_search(query=query_country, granularity=\"country\")\n",
    "#     place_id = places[0].id\n",
    "#     #print('cancer ' + \"place:%s\" % place_id)\n",
    "    print query_term\n",
    "    tweets = api.search(q= query_term + \" place:%s\" % place_id, since_id = 895384637974990849) # arbitrary id from years ago\n",
    "    for tweet in tweets:\n",
    "        print tweet.text + \" | \" + tweet.place.name if tweet.place else \"Undefined place\"\n",
    "        print tweet.user.screen_name, tweet.user.id, tweet.user.name\n",
    "        print tweet.place.country\n",
    "        if tweet.id not in unique_tweet:     \n",
    "            result.append({\n",
    "                'tweet_text': tweet.text, \n",
    "                'tweet_place': tweet.place.name,\n",
    "                'tweet_country': tweet.place.country,\n",
    "                'tweet_id': tweet.id,\n",
    "                'user_screen_name': tweet.user.screen_name,\n",
    "                'user_name': tweet.user.name,\n",
    "                'user_id': tweet.user.id,\n",
    "                'tweet_time': str(tweet.created_at),\n",
    "            })\n",
    "            unique_tweet[tweet.id] = 1"
   ]
  },
  {
   "cell_type": "markdown",
   "metadata": {},
   "source": [
    "# Using API.search function to get past tweets"
   ]
  },
  {
   "cell_type": "code",
   "execution_count": 5,
   "metadata": {},
   "outputs": [
    {
     "name": "stdout",
     "output_type": "stream",
     "text": [
      "Place(_api=<tweepy.api.API object at 0x10b34f490>, country_code=u'ZA', url=u'https://api.twitter.com/1.1/geo/id/dd9c0d7d7e07eb49.json', country=u'South Africa', place_type=u'country', bounding_box=BoundingBox(_api=<tweepy.api.API object at 0x10b34f490>, type=u'Polygon', coordinates=[[[16.4475932, -34.8342468], [16.4475932, -22.1247236], [32.8922934, -22.1247236], [32.8922934, -34.8342468], [16.4475932, -34.8342468]]]), contained_within=[], centroid=[26.128478132597408, -28.4794852], full_name=u'South Africa', attributes={}, id=u'dd9c0d7d7e07eb49', name=u'South Africa')\n",
      "cancer\n",
      "Oh my darling I am so sorry that you as young beautiful princess has to go through this horrible evil cancer to You… https://t.co/bcmZH3vdjv | Bedfordview\n",
      "yolnic 34891724 Yol\\*-*/\n",
      "South Africa\n",
      "Cycled this year Argus in support of all women fighting breast cancer! 💪🏻 @BCCare @BorstkankerTour  @CTCycleTour… https://t.co/Th74TTkW9U | Cape Town\n",
      "RobLamberts 144830190 Prof Rob Lamberts\n",
      "South Africa\n",
      "And cancer strikes again in the family 😢😭 | Bloemfontein\n",
      "bushbybee 234499174 mama bae'lish 🎀\n",
      "South Africa\n",
      "22 July, cancer ♋ https://t.co/utH8vdfBt2 | Germiston\n",
      "ThamaniSkhosana 338148743 Thamani Skhosana\n",
      "South Africa\n",
      "@ThabisoTema #POWERDrive naah Thabiso this super tasting smangamanga research is counter-revolutionary, so soon we… https://t.co/8W8SSPnaRi | Centurion\n",
      "kudawana 3079296322 FHATUWANI MUDAU WA AFRIKA\n",
      "South Africa\n",
      "@BantuMthabela Haibo Cancer ngu Always qha | Midrand\n",
      "Wonga_Neo 728456760411840512 Jama_kaSjadu_Zizi🕵\n",
      "South Africa\n",
      "The First Things First Campaign kick starts on campus. Students and staff members are encouraged to take part in th… https://t.co/XTNRz8TJ52 | South Africa\n",
      "ULvarsity 522941473 UniversityofLimpopo\n",
      "South Africa\n",
      "If your @Ecco_il_caffe looks nuts it's Marble Monday! Don't just roll them! Check for #testicular #cancer too! Earl… https://t.co/Du9etxVf8F | Cape Town\n",
      "LoveYourNuts 303036749 Love Your Nuts Foundation\n",
      "South Africa\n",
      "So, what? You're embarrassed? Don't try to fight it - fight cancer instead. #DaredevilRun2018 literally save lives.… https://t.co/XEJhS4TBRy | Johannesburg\n",
      "eddy_rust 2900404637 Eddy  Rust\n",
      "South Africa\n",
      "@Thati_22 @Phatsolove Hafela ese cancer 😂😂😂 | Thabong\n",
      "tonicdj057 549997983 Teddy\n",
      "South Africa\n",
      "tumor\n",
      "I absolutely love the fact that Jason won't accept that \"the tumor made me do it\" bullshit! #GH | Cape Town\n",
      "MsShashaDaniels 496911558 Inghär\n",
      "South Africa\n",
      "Looks like a tumor to be honest. https://t.co/I1PzYH7UnR | Sandton\n",
      "YourBoy_TK 106744476 Vho Kgabo\n",
      "South Africa\n",
      "@MasingitaTv Now recently on another storyline,a child is diagnosed with tumor to brain.possibility of death or dis… https://t.co/bsDJgt9jFk | Cape Town\n",
      "Taylor_Basha 1832337656 Mrs. Basha Taylor\n",
      "South Africa\n",
      "tumour\n",
      "Recurrent #choke due to a thyroid mass #Horse #HorseHealth #InternistOnTheRun #GetADiagnosis #GetTheFacts… https://t.co/QkXE0xEzUD | Cape Town\n",
      "WinelandsEquine 2983750491 Winelands Equine Vet\n",
      "South Africa\n",
      "leukaemia\n",
      "@TGallivantingG We’re raising funds to save a child’s life. 1 in 600 children in SA get cancer, the most common Leu… https://t.co/YnWGqWPKm4 | Cape Town\n",
      "DigitalShelfSA 4832991507 Digital Shelf\n",
      "South Africa\n",
      "leukemia\n",
      "@LynetteFrancis1 Been considering these symbols as a tattoo. When I was diagnosed with chronic leukemia; I got Love… https://t.co/XtYI8jjv4Z | Pretoria\n",
      "lorrainew01 83156804 Lorraine Watson\n",
      "South Africa\n",
      "lymphoma\n",
      "CML\n",
      "burkitt\n"
     ]
    }
   ],
   "source": [
    "# start collecting here\n",
    "\n",
    "# South Africa\n",
    "places = api.geo_search(query='South Africa', granularity=\"country\")\n",
    "place_id = places[0].id\n",
    "print places[0]\n",
    "south_africa_coordinates = places[0].bounding_box.coordinates\n",
    "#print('cancer ' + \"place:%s\" % place_id)\n",
    "\n",
    "# cancer\n",
    "api_search(result, unique_tweet, place_id, 'cancer')\n",
    "    \n",
    "# tumor\n",
    "api_search(result, unique_tweet, place_id, 'tumor')\n",
    "        \n",
    "# tumour\n",
    "api_search(result, unique_tweet, place_id, 'tumour')\n",
    "        \n",
    "# Leukaemia\n",
    "api_search(result, unique_tweet, place_id, 'leukaemia')\n",
    "        \n",
    "# Leukemia\n",
    "api_search(result, unique_tweet, place_id, 'leukemia')\n",
    "        \n",
    "# Lymphoma\n",
    "api_search(result, unique_tweet, place_id, 'lymphoma')\n",
    "        \n",
    "# CML\n",
    "api_search(result, unique_tweet, place_id, 'CML')\n",
    "        \n",
    "# Burkitt\n",
    "api_search(result, unique_tweet, place_id, 'burkitt')"
   ]
  },
  {
   "cell_type": "code",
   "execution_count": 6,
   "metadata": {},
   "outputs": [
    {
     "name": "stdout",
     "output_type": "stream",
     "text": [
      "cancer\n",
      "#PowerGames \"To me, @KenyaPower is like Cancer ~ Irene Moraa. | Nairobi\n",
      "Le_LadyBoss 582500878 Winnie Oscar\n",
      "Kenya\n",
      "Good To Go!!!!!!! Colour Purple Concert!!!!! 12th May. Issa Date \n",
      "Free Cancer Screening for the… https://t.co/u01wQc7tXf | Nairobi\n",
      "dej_mellow 4150289295 DjMellowkenya\n",
      "Kenya\n",
      "SHOFCO  include: primary health and preventative care, pre and postpartum care, child immunizations, comprehensive… https://t.co/jYkoK2YFwE | Kenya\n",
      "KibetBenard_ 636025446 Kibet Benard\n",
      "Kenya\n",
      "Curcumin,  given in combination with drugs for lung cancer, reduces drug resistance, increasing their effectiveness https://t.co/DWwHAky0nX | Kerwa\n",
      "nguthijosephk 127262655 Nguthi j. kagechu\n",
      "Kenya\n",
      "#GainWithXtainDela @Jadudi #cancer https://t.co/uF5yarglCK | Kenya\n",
      "PSKRATCH1 317023154 DJ PSKRATCH™\n",
      "Kenya\n",
      "Fight Cancer.  #150minsoffun #Exercise #danceagainstcancer #Movementforhealth #ExerciseWorks #warriors… https://t.co/c5E5lLa9Az | Nairobi\n",
      "OngwenMartin 466579764 Kenyanphysio\n",
      "Kenya\n",
      "tumor\n",
      "Medical appeal for Mildred Obadha diagnosed w/brain tumor. KES 2 million(USD 20,000) required for surgery to… https://t.co/4lA6Iqr9uw | Athi River\n",
      "Carole_Opile 2217764726 Caroline Opile\n",
      "Kenya\n",
      "tumour\n",
      "Let's all join Hands in contributing whatever we have to Alibaba ,A radio presenter Who has undergone a successful… https://t.co/rFBDbN7snY | Kitale\n",
      "jerrykemoi 3337073021 Jerry Kemoi\n",
      "Kenya\n",
      "Leukaemia\n",
      "leukemia\n",
      "lymphoma\n",
      "CML\n",
      "imaraadka waa dumarka somalia cml diraca am cabayad ayey nal xirtaan oo qaali ka dhigeyna | Nairobi\n",
      "xiis_xubi 972395737463033857 Xiis Xarago  Xubi\n",
      "Kenya\n",
      "burkitt\n"
     ]
    }
   ],
   "source": [
    "# Kenya\n",
    "places = api.geo_search(query='Kenya', granularity=\"country\")\n",
    "place_id = places[0].id\n",
    "kenya_coordinates = places[0].bounding_box.coordinates\n",
    "\n",
    "# cancer\n",
    "api_search(result, unique_tweet, place_id, 'cancer')\n",
    "    \n",
    "# tumor\n",
    "api_search(result, unique_tweet, place_id, 'tumor')\n",
    "        \n",
    "# tumour\n",
    "api_search(result, unique_tweet, place_id, 'tumour')\n",
    "        \n",
    "# Leukaemia\n",
    "api_search(result, unique_tweet, place_id, 'Leukaemia')\n",
    "        \n",
    "# Leukemia\n",
    "api_search(result, unique_tweet, place_id, 'leukemia')\n",
    "        \n",
    "# Lymphoma\n",
    "api_search(result, unique_tweet, place_id, 'lymphoma')\n",
    "        \n",
    "# CML\n",
    "api_search(result, unique_tweet, place_id, 'CML')\n",
    "        \n",
    "# Burkitt\n",
    "api_search(result, unique_tweet, place_id, 'burkitt')"
   ]
  },
  {
   "cell_type": "code",
   "execution_count": 7,
   "metadata": {},
   "outputs": [
    {
     "name": "stdout",
     "output_type": "stream",
     "text": [
      "cancer\n",
      "#Stopthesoot  Currently listening to Rivers Environment commissioner on @AIT_Online speaking on Black Soot. Benzene… https://t.co/mcgIzWe7e1 | Port Harcourt\n",
      "chukzeegeorge 2164649524 AkusinaChi\n",
      "Nigeria\n",
      "@elkoolsaad You obviously had a rough upbringing so you comfort yourself by coming online to look for who to troll… https://t.co/9ucDHYGs8x | Lagos\n",
      "Harri_Obi 768272538 HARRI OBI™\n",
      "Nigeria\n",
      "Cancer https://t.co/jJ5K5NlqO5 | Abuja\n",
      "Jayy_tweets_ 859328636 ele\n",
      "Nigeria\n",
      "Prevent cervical cancer with the right test at the right time! Screening tests can find abnormal cells so they can… https://t.co/IHVcC0K5vc | Nigeria\n",
      "efferentCARES 867298360331571200 efferentCARES\n",
      "Nigeria\n",
      "tumor\n",
      "Ordinary brain tumor ??? They deserve a space at ARO or YABA APA OSI 😬😬😬 https://t.co/apdJSW2y7h | Ibadan\n",
      "Mz_Rubeey 135548667 Mummy Faridah\n",
      "Nigeria\n",
      "tumour\n",
      "How fruits, vegetables prevent tumour growth | Uyo\n",
      "useoffot 782120916738277376 Blessed 💦\n",
      "Nigeria\n",
      "Suffix - Meaning\n",
      "1.  -aemia : Blood\n",
      "2. -algia : Pain\n",
      "3. -derm : skin\n",
      "4. -dynia : pain\n",
      "5. -ectomy : removal\n",
      "6. -Itis… https://t.co/3RmT8uHmDj | Kaduna\n",
      "Mandulex 310489545 Abubakar Sadiq.\n",
      "Nigeria\n",
      "leukaemia\n",
      "Kind factory workers donated 3,300 hours of overtime to colleague so he could care for his leukaemia-stricken son,… https://t.co/3eQrQKXTit | Nigeria\n",
      "CoolFMNigeria 117087700 Cool FM Nigeria 96.9\n",
      "Nigeria\n",
      "Two-year-old girl has leukaemia after parents suspected virus https://t.co/pU1PN79eAe via https://t.co/5SjjQRBPoF | Ikeja\n",
      "HealthontheLen1 929723928783749120 Health on the Lens T\n",
      "Nigeria\n",
      "leukemia\n",
      "lymphoma\n",
      "CML\n",
      "@shipperbyheart @greice_gpcat @NephilimUpdates @Ketz_CML @MatthewDaddario @ShadowhuntersTV @ShadowhuntersWR… https://t.co/J3BRiRoFMQ | Nigeria\n",
      "d_liketheletter 877108865300660224 Kelani\n",
      "Nigeria\n",
      "burkitt\n"
     ]
    }
   ],
   "source": [
    "# Nigeria\n",
    "places = api.geo_search(query=\"Nigeria\", granularity=\"country\")\n",
    "place_id = places[0].id\n",
    "nigeria_coordinates = places[0].bounding_box.coordinates\n",
    "#print('cancer ' + \"place:%s\" % place_id)\n",
    "\n",
    "# cancer\n",
    "api_search(result, unique_tweet, place_id, 'cancer')\n",
    "\n",
    "# tumor\n",
    "api_search(result, unique_tweet, place_id, 'tumor')\n",
    "        \n",
    "# tumour\n",
    "api_search(result, unique_tweet, place_id, 'tumour')\n",
    "        \n",
    "# Leukaemia\n",
    "api_search(result, unique_tweet, place_id, 'leukaemia')\n",
    "        \n",
    "# Leukemia\n",
    "api_search(result, unique_tweet, place_id, 'leukemia')\n",
    "        \n",
    "# Lymphoma\n",
    "api_search(result, unique_tweet, place_id, 'lymphoma')\n",
    "        \n",
    "# CML\n",
    "api_search(result, unique_tweet, place_id, 'CML')\n",
    "        \n",
    "# Burkitt\n",
    "api_search(result, unique_tweet, place_id, 'burkitt')"
   ]
  },
  {
   "cell_type": "code",
   "execution_count": 8,
   "metadata": {
    "collapsed": true
   },
   "outputs": [],
   "source": [
    "# adding tweet information to json file\n",
    "js = json.dumps(result, sort_keys=True, indent=4, separators=(',', ': '))\n",
    "with open('tweet.json', 'w+') as f:\n",
    "    f.write(js)"
   ]
  },
  {
   "cell_type": "code",
   "execution_count": 9,
   "metadata": {
    "collapsed": true
   },
   "outputs": [],
   "source": [
    "# id of tweet on Feb 28th 2018\n",
    "since_id_feb28 = 968897814246936577\n",
    "\n",
    "# id of tweet on march 4th 2018\n",
    "since_id_march4 = 970419633978212352"
   ]
  },
  {
   "cell_type": "code",
   "execution_count": 11,
   "metadata": {},
   "outputs": [
    {
     "data": {
      "text/plain": [
       "4969"
      ]
     },
     "execution_count": 11,
     "metadata": {},
     "output_type": "execute_result"
    }
   ],
   "source": [
    "# current number of tweets\n",
    "len(result)"
   ]
  },
  {
   "cell_type": "markdown",
   "metadata": {},
   "source": [
    "\n",
    "Tumor/tumour (UK vs UK spelling)\n",
    "\n",
    "Leukaemia/Leukemia\n",
    "\n",
    "Lymphoma\n",
    "\n",
    "CML\n",
    "\n",
    "Burkitt"
   ]
  },
  {
   "cell_type": "markdown",
   "metadata": {},
   "source": [
    "Questions: \n",
    "1. How to find tweets that are not geotagged, somehow?\n",
    "\n",
    "use streaming API (can get larger amounts of tweets, can use list of keywords, don't include punctuations in the keyword search)\n",
    "\n",
    "dont trust screen_name too much, user_id is more helpful\n",
    "\n",
    "use user location, should be pretty reliable on locating tweets in the spcified location\n",
    "\n",
    "go to user timeline, cannot search by keywords here (3200 tweets of most recent)\n",
    "\n",
    "more than 200,000/300,000 tweets then use database\n",
    "\n",
    "Talk to Yehoda about what to do after extraction of tweets\n"
   ]
  },
  {
   "cell_type": "markdown",
   "metadata": {},
   "source": [
    "# Using streaming API to get tweets from real time"
   ]
  },
  {
   "cell_type": "code",
   "execution_count": 12,
   "metadata": {
    "collapsed": true
   },
   "outputs": [],
   "source": [
    "#This is a basic listener that just prints received tweets to stdout.\n",
    "user_locations = [\"South Africa\", \"Kenya\", 'Nigeria', 'Johannesburg, South Africa', \n",
    "                  'Cape Town, South Africa', 'Durban, South Africa', 'Lagos, Nigeria', 'Nairobi, Kenya',\n",
    "                 'Mombasa, Kenya', 'Nakuru, Kenya', 'Kano, Nigeria']\n",
    "class StdOutListener(StreamListener):\n",
    "\n",
    "    def on_data(self, data):\n",
    "        #print data\n",
    "        json_data = json.loads(data)\n",
    "        if (json_data['place'] != None and json_data['place']['country'] in [\"South Africa\", \"Kenya\", 'Nigeria']) or json_data['user']['location'] in user_locations:\n",
    "            if json_data['id'] not in unique_tweet:\n",
    "                unique_tweet[json_data['id']] = 1\n",
    "                print \"one more tweet!\"\n",
    "                place = \"\"\n",
    "                country = \"\"\n",
    "                if json_data['place'] == None:\n",
    "                    place = json_data['user']['location']\n",
    "                    country = json_data['user']['location']\n",
    "                else:\n",
    "                    print \"here1\"\n",
    "                    print json_data['place']['name'], json_data['place']['country']\n",
    "                    print \"here2\"\n",
    "                    place = json_data['place']['name']\n",
    "                    country = json_data['place']['country']\n",
    "                    \n",
    "                streaming_result = {\n",
    "                    'tweet_text': json_data['text'], \n",
    "                    'tweet_place': place,\n",
    "                    'tweet_country': country,\n",
    "                    'tweet_id': json_data['id'],\n",
    "                    'user_screen_name': json_data['user']['screen_name'],\n",
    "                    'user_name': json_data['user']['name'],\n",
    "                    'user_id': json_data['user']['id'],\n",
    "                    'tweet_time': str(json_data['created_at'])\n",
    "                }\n",
    "                print streaming_result\n",
    "                js = json.dumps(streaming_result, sort_keys=True, indent=4, separators=(',', ': '))\n",
    "                with open('tweet.json', 'a+') as f:\n",
    "                    f.write(',')\n",
    "                    f.write(js)\n",
    "                    print js\n",
    "        return True\n",
    "\n",
    "    def on_error(self, status):\n",
    "        print status\n",
    "\n",
    "l = StdOutListener()\n",
    "stream = tweepy.Stream(auth, l)"
   ]
  },
  {
   "cell_type": "code",
   "execution_count": 13,
   "metadata": {},
   "outputs": [
    {
     "name": "stdout",
     "output_type": "stream",
     "text": [
      "([[[16.4475932, -34.8342468], [16.4475932, -22.1247236], [32.8922934, -22.1247236], [32.8922934, -34.8342468], [16.4475932, -34.8342468]]], [[[33.9105011, -4.7672356], [33.9105011, 4.631608], [41.8998666, 4.631608], [41.8998666, -4.7672356], [33.9105011, -4.7672356]]], [[[2.6654364, 4.1974055], [2.6654364, 13.8881151], [14.6777951, 13.8881151], [14.6777951, 4.1974055], [2.6654364, 4.1974055]]])\n",
      "[16.4475932, -34.8342468, 32.8922934, -22.1247236, 33.9105011, -4.7672356, 41.8998666, 4.631608, 2.6654364, 4.1974055, 14.6777951, 13.8881151]\n"
     ]
    }
   ],
   "source": [
    "# bounding box coordinates of three countries\n",
    "print(south_africa_coordinates, kenya_coordinates, nigeria_coordinates)\n",
    "\n",
    "# combine them together for streaming purpose\n",
    "coordinates = south_africa_coordinates[0][0] + south_africa_coordinates[0][2] + kenya_coordinates[0][0] + kenya_coordinates[0][2] + nigeria_coordinates[0][0] + nigeria_coordinates[0][2]\n",
    "print coordinates\n",
    "\n",
    "# keywords for search\n",
    "keywords = ['cancer', 'tumor', 'tumour', 'leukaemia', 'leukemia', 'lymphoma', 'cml', 'burkitt']"
   ]
  },
  {
   "cell_type": "code",
   "execution_count": null,
   "metadata": {},
   "outputs": [],
   "source": [
    "stream.filter(track = keywords)#locations = coordinates)"
   ]
  },
  {
   "cell_type": "code",
   "execution_count": null,
   "metadata": {
    "collapsed": true
   },
   "outputs": [],
   "source": []
  },
  {
   "cell_type": "code",
   "execution_count": null,
   "metadata": {
    "collapsed": true
   },
   "outputs": [],
   "source": []
  },
  {
   "cell_type": "code",
   "execution_count": null,
   "metadata": {
    "collapsed": true
   },
   "outputs": [],
   "source": []
  },
  {
   "cell_type": "code",
   "execution_count": null,
   "metadata": {
    "collapsed": true
   },
   "outputs": [],
   "source": []
  }
 ],
 "metadata": {
  "kernelspec": {
   "display_name": "Python 2",
   "language": "python",
   "name": "python2"
  },
  "language_info": {
   "codemirror_mode": {
    "name": "ipython",
    "version": 2
   },
   "file_extension": ".py",
   "mimetype": "text/x-python",
   "name": "python",
   "nbconvert_exporter": "python",
   "pygments_lexer": "ipython2",
   "version": "2.7.14"
  }
 },
 "nbformat": 4,
 "nbformat_minor": 2
}
