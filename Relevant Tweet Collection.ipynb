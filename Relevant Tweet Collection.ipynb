{
 "cells": [
  {
   "cell_type": "markdown",
   "metadata": {},
   "source": [
    "## Tweepy"
   ]
  },
  {
   "cell_type": "code",
   "execution_count": 64,
   "metadata": {
    "collapsed": true
   },
   "outputs": [],
   "source": [
    "import tweepy\n",
    "import json\n",
    "from simplejson import loads, dumps\n",
    "from tweepy.streaming import StreamListener\n",
    "import ast\n",
    "consumer_key = 'fhHdOl6iEQjhCdsOEbKckdz15'\n",
    "consumer_sec = 'xsBg1j04Oam2nKWcNHW3ioH8fPwOyYHgQdm3cuQDs7tWLQfVQb'\n",
    "auth = tweepy.OAuthHandler(consumer_key, consumer_sec)\n",
    "access_token = '1146859238-dowHot8BUaoAD2GaF8c4mdUSucWHvrjk95G5uVP'\n",
    "access_token_sec = 'EVoHQ1rbzOGHw6eyYO6F7nioSWqsWFbm1DJ5QptdLEz29'\n",
    "auth.set_access_token(access_token, access_token_sec)\n",
    "\n",
    "api = tweepy.API(auth)\n",
    "#public_tweets = api.home_timeline()\n",
    "# for tweet in public_tweets:\n",
    "#     print tweet.text\n",
    "    "
   ]
  },
  {
   "cell_type": "code",
   "execution_count": 67,
   "metadata": {},
   "outputs": [],
   "source": [
    "# initializing structures for extracting tweets\n",
    "result = []\n",
    "unique_tweet = {}\n",
    "\n",
    "# loading from previous structures\n",
    "with open('tweet.json') as json_data:\n",
    "    result = json.load(json_data)\n",
    "\n",
    "for tweet in result:\n",
    "    unique_tweet[tweet['tweet_id']] = 1\n",
    "#     since_id_march4 = tweet['tweet_id']\n"
   ]
  },
  {
   "cell_type": "code",
   "execution_count": 68,
   "metadata": {},
   "outputs": [
    {
     "data": {
      "text/plain": [
       "(2061, 2707)"
      ]
     },
     "execution_count": 68,
     "metadata": {},
     "output_type": "execute_result"
    }
   ],
   "source": [
    "# Checking how many unique individuals/organizations we have so far\n",
    "len(dict((v['user_id'],v) for v in result).values()), len(result)"
   ]
  },
  {
   "cell_type": "code",
   "execution_count": 69,
   "metadata": {
    "collapsed": true
   },
   "outputs": [],
   "source": [
    "# api.search function wrapper\n",
    "def api_search(result, unique_tweet, place_id, query_term):\n",
    "#     places = api.geo_search(query=query_country, granularity=\"country\")\n",
    "#     place_id = places[0].id\n",
    "#     #print('cancer ' + \"place:%s\" % place_id)\n",
    "    print query_term\n",
    "    tweets = api.search(q= query_term + \" place:%s\" % place_id, since_id = 895384637974990849, \n",
    "                       tweet_mode = 'extended') # arbitrary id from years ago\n",
    "    for tweet in tweets:\n",
    "        if not tweet.full_text.startswith('RT @'):\n",
    "            print tweet.full_text + \" | \" + tweet.place.name if tweet.place else \"Undefined place\"\n",
    "            print tweet.user.screen_name, tweet.user.id, tweet.user.name\n",
    "            print tweet.place.country\n",
    "            if tweet.id not in unique_tweet:     \n",
    "                result.append({\n",
    "                    'tweet_text': tweet.full_text, \n",
    "                    'tweet_place': tweet.place.name,\n",
    "                    'tweet_country': tweet.place.country,\n",
    "                    'tweet_id': tweet.id,\n",
    "                    'user_screen_name': tweet.user.screen_name,\n",
    "                    'user_name': tweet.user.name,\n",
    "                    'user_id': tweet.user.id,\n",
    "                    'tweet_time': str(tweet.created_at),\n",
    "                })\n",
    "                unique_tweet[tweet.id] = 1\n",
    "                \n",
    "        elif hasattr(tweet, 'retweeted_status'):\n",
    "            if tweet.id not in unique_tweet:     \n",
    "                result.append({\n",
    "                    'tweet_text': 'RT @' +info.retweeted_status.user.screen_name + ': ' + info.retweeted_status.full_text, \n",
    "                    'tweet_place': tweet.place.name,\n",
    "                    'tweet_country': tweet.place.country,\n",
    "                    'tweet_id': tweet.id,\n",
    "                    'user_screen_name': tweet.user.screen_name,\n",
    "                    'user_name': tweet.user.name,\n",
    "                    'user_id': tweet.user.id,\n",
    "                    'tweet_time': str(tweet.created_at),\n",
    "                })\n",
    "                unique_tweet[tweet.id] = 1\n",
    "        else:\n",
    "            continue"
   ]
  },
  {
   "cell_type": "markdown",
   "metadata": {},
   "source": [
    "## get all the past tweets to be full text (one time)"
   ]
  },
  {
   "cell_type": "code",
   "execution_count": 70,
   "metadata": {},
   "outputs": [
    {
     "data": {
      "text/plain": [
       "'\\nnew_result = []\\ni = 1\\nfor tweet in result:\\n    print(i)\\n    i+=1\\n    try:\\n        info = api.get_status(tweet[\\'tweet_id\\'], tweet_mode=\\'extended\\')\\n        print info.full_text\\n        if not info.full_text.startswith(\\'RT @\\'):\\n            print(\"not retweeted\")\\n            tweet[\\'tweet_text\\'] = info.full_text\\n            print(tweet[\\'tweet_text\\'] == info.full_text)\\n            new_result.append(tweet)\\n        elif hasattr(info, \\'retweeted_status\\'):\\n            print(\"retweeted\")\\n            tweet[\\'tweet_text\\'] = \\'RT @\\' +info.retweeted_status.user.screen_name + \\': \\' + info.retweeted_status.full_text\\n            print(tweet[\\'tweet_text\\'] == info.retweeted_status.full_text)\\n            new_result.append(tweet)\\n        else:\\n            continue\\n    except:\\n        break\\n'"
      ]
     },
     "execution_count": 70,
     "metadata": {},
     "output_type": "execute_result"
    }
   ],
   "source": [
    "'''\n",
    "new_result = []\n",
    "i = 1\n",
    "for tweet in result:\n",
    "    print(i)\n",
    "    i+=1\n",
    "    try:\n",
    "        info = api.get_status(tweet['tweet_id'], tweet_mode='extended')\n",
    "        print info.full_text\n",
    "        if not info.full_text.startswith('RT @'):\n",
    "            print(\"not retweeted\")\n",
    "            tweet['tweet_text'] = info.full_text\n",
    "            print(tweet['tweet_text'] == info.full_text)\n",
    "            new_result.append(tweet)\n",
    "        elif hasattr(info, 'retweeted_status'):\n",
    "            print(\"retweeted\")\n",
    "            tweet['tweet_text'] = 'RT @' +info.retweeted_status.user.screen_name + ': ' + info.retweeted_status.full_text\n",
    "            print(tweet['tweet_text'] == info.retweeted_status.full_text)\n",
    "            new_result.append(tweet)\n",
    "        else:\n",
    "            continue\n",
    "    except:\n",
    "        break\n",
    "'''"
   ]
  },
  {
   "cell_type": "code",
   "execution_count": 71,
   "metadata": {
    "collapsed": true
   },
   "outputs": [],
   "source": [
    "# len(new_result), new_result[-5:]"
   ]
  },
  {
   "cell_type": "code",
   "execution_count": 72,
   "metadata": {},
   "outputs": [
    {
     "data": {
      "text/plain": [
       "\"\\n# saving to different file(s)\\njs = json.dumps(new_result, sort_keys=True, indent=4, separators=(',', ': '))\\nwith open('piece.json', 'w+') as f:\\n    f.write(js)\\n\""
      ]
     },
     "execution_count": 72,
     "metadata": {},
     "output_type": "execute_result"
    }
   ],
   "source": [
    "'''\n",
    "# saving to different file(s)\n",
    "js = json.dumps(new_result, sort_keys=True, indent=4, separators=(',', ': '))\n",
    "with open('piece.json', 'w+') as f:\n",
    "    f.write(js)\n",
    "'''"
   ]
  },
  {
   "cell_type": "markdown",
   "metadata": {},
   "source": [
    "# Using API.search function to get past tweets"
   ]
  },
  {
   "cell_type": "code",
   "execution_count": 73,
   "metadata": {},
   "outputs": [
    {
     "name": "stdout",
     "output_type": "stream",
     "text": [
      "Place(_api=<tweepy.api.API object at 0x10d1df990>, country_code=u'ZA', url=u'https://api.twitter.com/1.1/geo/id/dd9c0d7d7e07eb49.json', country=u'South Africa', place_type=u'country', bounding_box=BoundingBox(_api=<tweepy.api.API object at 0x10d1df990>, type=u'Polygon', coordinates=[[[16.4475932, -34.8342468], [16.4475932, -22.1247236], [32.8922934, -22.1247236], [32.8922934, -34.8342468], [16.4475932, -34.8342468]]]), contained_within=[], centroid=[26.128478132597408, -28.4794852], full_name=u'South Africa', attributes={}, id=u'dd9c0d7d7e07eb49', name=u'South Africa')\n",
      "cancer\n",
      "Women: h-\n",
      "\n",
      "'Not all men's Twitter: NOT ALL MEN!! FEMINISM IS CANCER!! BE ANGRY AT THE MEN WHO HURT YOU! https://t.co/L3uH2edEjs | Johannesburg\n",
      "Felicity_M2 618152582 LeviOsa Not LevioSA\n",
      "South Africa\n",
      "Annual Pap Smear done ✅. Ladies it’s so important to get your cervix checked to ensure that you are cleared of any cervical cancer! | Sandton\n",
      "msnoseepoh 175726597 IG: msnoseepoh\n",
      "South Africa\n",
      "@relay_ndayi He's sickly, fighting cancer. | Randburg\n",
      "RulzKay1 484522527 Nceba S. Radebe\n",
      "South Africa\n",
      "Gents please test for Prostate Cancer. That shit be taking leading men in our communities. | Diepkloof\n",
      "The_DonHimself 92541608 Linda Motaung\n",
      "South Africa\n",
      "tumor\n",
      "tumour\n",
      "Health Tips - Listening to music frequently will reduce the risk of a brain tumour over the course of your life.\n",
      "\n",
      "Like, Comment &amp; Share if you agree! #Health #TshwaneHEA\n",
      "\n",
      "Interested in more tips? Like our page @TshwaneHEA\n",
      "\n",
      "How about Home Schooling? Visit https://t.co/5tIA3Kdw5O https://t.co/a4zAzz199I | Pretoria\n",
      "TshwaneHEA 2789458387 Tshwane Home EDU\n",
      "South Africa\n",
      "@pierredevos The man is terminal - the tumour took his conscience | Sandton\n",
      "sjgrimsley 877257354 Selwyn Grimsley\n",
      "South Africa\n",
      "leukaemia\n",
      "Our 825 kilometre walk is more than two months away, and we've already hit more than 10% of our goal donation! \n",
      "\n",
      "Thank you, your belief in #WalkingForLife saves lives &gt;\n",
      "https://t.co/EY0lXPso8U\n",
      "\n",
      "#SouthAfrica #CapeTown #Donors #StemCells #Leukaemia https://t.co/LD8cWXmUsn | Cape Town\n",
      "DigitalShelfSA 4832991507 Digital Shelf\n",
      "South Africa\n",
      "leukemia\n",
      "lymphoma\n",
      "CML\n",
      "burkitt\n"
     ]
    }
   ],
   "source": [
    "# start collecting here\n",
    "\n",
    "# South Africa\n",
    "places = api.geo_search(query='South Africa', granularity=\"country\")\n",
    "place_id = places[0].id\n",
    "print places[0]\n",
    "south_africa_coordinates = places[0].bounding_box.coordinates\n",
    "#print('cancer ' + \"place:%s\" % place_id)\n",
    "\n",
    "# cancer\n",
    "api_search(result, unique_tweet, place_id, 'cancer')\n",
    "    \n",
    "# tumor\n",
    "api_search(result, unique_tweet, place_id, 'tumor')\n",
    "        \n",
    "# tumour\n",
    "api_search(result, unique_tweet, place_id, 'tumour')\n",
    "        \n",
    "# Leukaemia\n",
    "api_search(result, unique_tweet, place_id, 'leukaemia')\n",
    "        \n",
    "# Leukemia\n",
    "api_search(result, unique_tweet, place_id, 'leukemia')\n",
    "        \n",
    "# Lymphoma\n",
    "api_search(result, unique_tweet, place_id, 'lymphoma')\n",
    "        \n",
    "# CML\n",
    "api_search(result, unique_tweet, place_id, 'CML')\n",
    "        \n",
    "# Burkitt\n",
    "api_search(result, unique_tweet, place_id, 'burkitt')"
   ]
  },
  {
   "cell_type": "code",
   "execution_count": 74,
   "metadata": {},
   "outputs": [
    {
     "name": "stdout",
     "output_type": "stream",
     "text": [
      "cancer\n",
      "tumor\n",
      "When GOD anoints, He anoints to bless. That you can pull JESUS for sins, tumor and yet you don't believe He can also pull out the debtors or poverty? Issa lie!\n",
      "\n",
      "#TheRelationshipOfTheAnointing | Kiambu\n",
      "NewBreedCity 2880130263 New Breed City (NBC)\n",
      "Kenya\n",
      "tumour\n",
      "@EMS_Kenya in partnership with AMREF Flying Doctors, has carried out an air evacuation for a five-month old baby with a congenital extra-cranial tumour from Mandera to Nairobi for  specialized medical treatment. https://t.co/pm4ceAzVHE | Nairobi\n",
      "KenyaRedCross 138708473 Kenya Red Cross\n",
      "Kenya\n",
      "Leukaemia\n",
      "leukemia\n",
      "Smoking causes cancers of the  \n",
      "1 lung, \n",
      "2 esophagus, \n",
      "3 larynx, \n",
      "4 mouth, \n",
      "5 throat, \n",
      "6 kidney, \n",
      "7 bladder, \n",
      "8 liver,  \n",
      "9 pancreas, \n",
      "10 stomach, \n",
      "11 cervix, \n",
      "12  colon, \n",
      "13 rectum, as well as \n",
      "14 acute myeloid  leukemia | Kenya\n",
      "andrewsuleh 1901033312 Dr Andrew Suleh MD\n",
      "Kenya\n",
      "lymphoma\n",
      "CML\n",
      "burkitt\n"
     ]
    }
   ],
   "source": [
    "# Kenya\n",
    "places = api.geo_search(query='Kenya', granularity=\"country\")\n",
    "place_id = places[0].id\n",
    "kenya_coordinates = places[0].bounding_box.coordinates\n",
    "\n",
    "# cancer\n",
    "api_search(result, unique_tweet, place_id, 'cancer')\n",
    "    \n",
    "# tumor\n",
    "api_search(result, unique_tweet, place_id, 'tumor')\n",
    "        \n",
    "# tumour\n",
    "api_search(result, unique_tweet, place_id, 'tumour')\n",
    "        \n",
    "# Leukaemia\n",
    "api_search(result, unique_tweet, place_id, 'Leukaemia')\n",
    "        \n",
    "# Leukemia\n",
    "api_search(result, unique_tweet, place_id, 'leukemia')\n",
    "        \n",
    "# Lymphoma\n",
    "api_search(result, unique_tweet, place_id, 'lymphoma')\n",
    "        \n",
    "# CML\n",
    "api_search(result, unique_tweet, place_id, 'CML')\n",
    "        \n",
    "# Burkitt\n",
    "api_search(result, unique_tweet, place_id, 'burkitt')"
   ]
  },
  {
   "cell_type": "code",
   "execution_count": 75,
   "metadata": {},
   "outputs": [
    {
     "name": "stdout",
     "output_type": "stream",
     "text": [
      "cancer\n",
      "Little girl with cancer needs your donations to fund her care.\n",
      "\n",
      "Twitter please help. Retweet. https://t.co/ip9Z6SdEPC | Lagos\n",
      "D_CHYKE 288777053 Chike Opara\n",
      "Nigeria\n",
      "What else? they say carbide ripened fruits causes Cancer and kidney disease. We await when water or air starts causing cancer too. | Kano\n",
      "Princemeek19 608240768 Prince Sani\n",
      "Nigeria\n",
      "7. Reduces drastically menstrual cramps and Pre-menstrual syndrome (PMS).\n",
      "8. Reduces the risk of cancer.\n",
      "9. Strengthen the heart's muscle, face and vagina.\n",
      "10. Helps in eliminating stretch marks and scars on facial skin. | Ikeja\n",
      "EkeneMyke 91158082 Ekenedilichukwu\n",
      "Nigeria\n",
      "Stem cells can treat over 134 chronic diseases such as Parkinson's disease, Alzheimer's, leukemia, stroke, heart attack, diabetes, cancer, spinal cord paralysis, others....... This is not a hoax. https://t.co/gUpxQp5ZcU | Ikeja\n",
      "EkeneMyke 91158082 Ekenedilichukwu\n",
      "Nigeria\n",
      "tumor\n",
      "FOR ALL SPORTS INJURIES,THE INDIAN DOCTORS ARE HERE,23RD FRIDAY&amp; SATURDAY 24TH MARCH2018 @ ST.LUCIA HOSPITAL OKE ADO IBADAN OYO STATE NIGERIA IS THE VENUE.KIDNEY,SPINAL,KNEE REPLACEMENT SURGERY, TUMOR,BONES..\n",
      "@SplashFM1055 #IBADAN #SHARDA #India #doctor #SPORTS Call- 08033503920 https://t.co/U8WjORWjwC | Nigeria\n",
      "SportsDiscuz 847855568127766534 Sports Discourse\n",
      "Nigeria\n",
      "tumour\n",
      "leukaemia\n",
      "leukemia\n",
      "@thenff led by @PinnickAmaju visits @NGSuperEagles goalkeeper @Carl_Ikeme ahead of @FIFAWorldCup \n",
      "Invited as a special guest during Eagles game against @England on June 2, they seek his permission 2 perform d customary kick-off.\n",
      "D @Wolves keeper is undergoing treatment 4 leukemia https://t.co/GDjX5GhwMm | Lagos\n",
      "Guarantor2011 323218940 Oni Guarantor\n",
      "Nigeria\n",
      "Stem cells can treat over 134 chronic diseases such as Parkinson's disease, Alzheimer's, leukemia, stroke, heart attack, diabetes, cancer, spinal cord paralysis, others....... This is not a hoax. https://t.co/gUpxQp5ZcU | Ikeja\n",
      "EkeneMyke 91158082 Ekenedilichukwu\n",
      "Nigeria\n",
      "I think Vimini is a character the audience would have loved - a 10yrs old genius dying of leukemia #goosebumps or what? @armiehammer @RealChalamet @CMBYNFilm #cmbyn #elio #oliver #italy | Nigeria\n",
      "d_liketheletter 877108865300660224 Kelani\n",
      "Nigeria\n",
      "lymphoma\n",
      "CML\n",
      "burkitt\n"
     ]
    }
   ],
   "source": [
    "# Nigeria\n",
    "places = api.geo_search(query=\"Nigeria\", granularity=\"country\")\n",
    "place_id = places[0].id\n",
    "nigeria_coordinates = places[0].bounding_box.coordinates\n",
    "#print('cancer ' + \"place:%s\" % place_id)\n",
    "\n",
    "# cancer\n",
    "api_search(result, unique_tweet, place_id, 'cancer')\n",
    "\n",
    "# tumor\n",
    "api_search(result, unique_tweet, place_id, 'tumor')\n",
    "        \n",
    "# tumour\n",
    "api_search(result, unique_tweet, place_id, 'tumour')\n",
    "        \n",
    "# Leukaemia\n",
    "api_search(result, unique_tweet, place_id, 'leukaemia')\n",
    "        \n",
    "# Leukemia\n",
    "api_search(result, unique_tweet, place_id, 'leukemia')\n",
    "        \n",
    "# Lymphoma\n",
    "api_search(result, unique_tweet, place_id, 'lymphoma')\n",
    "        \n",
    "# CML\n",
    "api_search(result, unique_tweet, place_id, 'CML')\n",
    "        \n",
    "# Burkitt\n",
    "api_search(result, unique_tweet, place_id, 'burkitt')"
   ]
  },
  {
   "cell_type": "code",
   "execution_count": 76,
   "metadata": {
    "collapsed": true
   },
   "outputs": [],
   "source": [
    "# adding tweet information to json file\n",
    "js = json.dumps(result, sort_keys=True, indent=4, separators=(',', ': '))\n",
    "with open('tweet.json', 'w+') as f:\n",
    "    f.write(js)"
   ]
  },
  {
   "cell_type": "code",
   "execution_count": 77,
   "metadata": {
    "collapsed": true
   },
   "outputs": [],
   "source": [
    "# id of tweet on Feb 28th 2018\n",
    "since_id_feb28 = 968897814246936577\n",
    "\n",
    "# id of tweet on march 4th 2018\n",
    "since_id_march4 = 970419633978212352"
   ]
  },
  {
   "cell_type": "code",
   "execution_count": 78,
   "metadata": {},
   "outputs": [
    {
     "data": {
      "text/plain": [
       "2713"
      ]
     },
     "execution_count": 78,
     "metadata": {},
     "output_type": "execute_result"
    }
   ],
   "source": [
    "# current number of tweets\n",
    "len(result)"
   ]
  },
  {
   "cell_type": "markdown",
   "metadata": {},
   "source": [
    "\n",
    "Tumor/tumour (UK vs UK spelling)\n",
    "\n",
    "Leukaemia/Leukemia\n",
    "\n",
    "Lymphoma\n",
    "\n",
    "CML\n",
    "\n",
    "Burkitt"
   ]
  },
  {
   "cell_type": "markdown",
   "metadata": {},
   "source": [
    "Questions: \n",
    "1. How to find tweets that are not geotagged, somehow?\n",
    "\n",
    "use streaming API (can get larger amounts of tweets, can use list of keywords, don't include punctuations in the keyword search)\n",
    "\n",
    "dont trust screen_name too much, user_id is more helpful\n",
    "\n",
    "use user location, should be pretty reliable on locating tweets in the spcified location\n",
    "\n",
    "go to user timeline, cannot search by keywords here (3200 tweets of most recent)\n",
    "\n",
    "more than 200,000/300,000 tweets then use database\n",
    "\n",
    "Talk to Yehoda about what to do after extraction of tweets\n"
   ]
  },
  {
   "cell_type": "markdown",
   "metadata": {},
   "source": [
    "# Using streaming API to get tweets from real time"
   ]
  },
  {
   "cell_type": "code",
   "execution_count": 94,
   "metadata": {
    "collapsed": true
   },
   "outputs": [],
   "source": [
    "#This is a basic listener that just prints received tweets to stdout.\n",
    "user_locations = [\"South Africa\", \"Kenya\", 'Nigeria', 'Johannesburg, South Africa', \n",
    "                  'Cape Town, South Africa', 'Durban, South Africa', 'Lagos, Nigeria', 'Nairobi, Kenya',\n",
    "                 'Mombasa, Kenya', 'Nakuru, Kenya', 'Kano, Nigeria']\n",
    "class StdOutListener(StreamListener):\n",
    "\n",
    "    def on_data(self, data):\n",
    "        #print data\n",
    "        json_data = json.loads(data)\n",
    "        if (json_data['place'] != None and json_data['place']['country'] in [\"South Africa\", \"Kenya\", 'Nigeria']) or json_data['user']['location'] in user_locations:\n",
    "            if json_data['id'] not in unique_tweet:\n",
    "                unique_tweet[json_data['id']] = 1\n",
    "                print \"one more tweet!\"\n",
    "                place = \"\"\n",
    "                country = \"\"\n",
    "                if json_data['place'] == None:\n",
    "                    place = json_data['user']['location']\n",
    "                    country = json_data['user']['location']\n",
    "                else:\n",
    "                    print json_data['place']['name'], json_data['place']['country']\n",
    "                    place = json_data['place']['name']\n",
    "                    country = json_data['place']['country']\n",
    "                    \n",
    "                print json_data\n",
    "                full_text = ''\n",
    "                print json_data['retweeted']\n",
    "                if 'extended_tweet' in json_data:\n",
    "                    print(\"extended_tweet\")\n",
    "                    print json_data['extended_tweet']['full_text']\n",
    "                    full_text = json_data['extended_tweet']['full_text']\n",
    "                else:\n",
    "                    print(\"no extended_tweet\")\n",
    "                    print json_data['text']\n",
    "                    #print json_data['status']['retweeted_status']['text']\n",
    "                    full_text = json_data['text']\n",
    "                print full_text\n",
    "                if not json_data['text'].startswith('RT @') and not json_data['retweeted']:\n",
    "                #if not full_text.startswith('RT @') and not json_data['retweeted']:\n",
    "                    streaming_result = {\n",
    "                        'tweet_text': full_text, \n",
    "                        'tweet_place': place,\n",
    "                        'tweet_country': country,\n",
    "                        'tweet_id': json_data['id'],\n",
    "                        'user_screen_name': json_data['user']['screen_name'],\n",
    "                        'user_name': json_data['user']['name'],\n",
    "                        'user_id': json_data['user']['id'],\n",
    "                        'tweet_time': str(json_data['created_at'])\n",
    "                    }\n",
    "                    print streaming_result\n",
    "                    js = json.dumps(streaming_result, sort_keys=True, indent=4, separators=(',', ': '))\n",
    "                    with open('tweet.json', 'a+') as f:\n",
    "                        f.write(',')\n",
    "                        f.write(js)\n",
    "                        print js\n",
    "                        \n",
    "                else:\n",
    "                    loc_text = ''\n",
    "#                     if json_data['retweeted']:\n",
    "                    if full_text.startswith('RT @'):\n",
    "                        loc_text = full_text\n",
    "                    else:\n",
    "                        loc_text = 'RT @' + json_data['retweeted_status']['user']['screen_name'] + ': ' + full_text\n",
    "                    streaming_result = {\n",
    "                        'tweet_text': loc_text,\n",
    "                        'tweet_place': place,\n",
    "                        'tweet_country': country,\n",
    "                        'tweet_id': json_data['id'],\n",
    "                        'user_screen_name': json_data['user']['screen_name'],\n",
    "                        'user_name': json_data['user']['name'],\n",
    "                        'user_id': json_data['user']['id'],\n",
    "                        'tweet_time': str(json_data['created_at'])\n",
    "                    }\n",
    "                    js = json.dumps(streaming_result, sort_keys=True, indent=4, separators=(',', ': '))\n",
    "                    with open('tweet.json', 'a+') as f:\n",
    "                        f.write(',')\n",
    "                        f.write(js)\n",
    "                        print js\n",
    "        return True\n",
    "\n",
    "    def on_error(self, status):\n",
    "        print status\n",
    "\n",
    "l = StdOutListener()\n",
    "stream = tweepy.Stream(auth, l, tweet_mode='extended')"
   ]
  },
  {
   "cell_type": "code",
   "execution_count": 95,
   "metadata": {},
   "outputs": [
    {
     "name": "stdout",
     "output_type": "stream",
     "text": [
      "([[[16.4475932, -34.8342468], [16.4475932, -22.1247236], [32.8922934, -22.1247236], [32.8922934, -34.8342468], [16.4475932, -34.8342468]]], [[[33.9105011, -4.7672356], [33.9105011, 4.631608], [41.8998666, 4.631608], [41.8998666, -4.7672356], [33.9105011, -4.7672356]]], [[[2.6654364, 4.1974055], [2.6654364, 13.8881151], [14.6777951, 13.8881151], [14.6777951, 4.1974055], [2.6654364, 4.1974055]]])\n",
      "[16.4475932, -34.8342468, 32.8922934, -22.1247236, 33.9105011, -4.7672356, 41.8998666, 4.631608, 2.6654364, 4.1974055, 14.6777951, 13.8881151]\n"
     ]
    }
   ],
   "source": [
    "# bounding box coordinates of three countries\n",
    "print(south_africa_coordinates, kenya_coordinates, nigeria_coordinates)\n",
    "\n",
    "# combine them together for streaming purpose\n",
    "coordinates = south_africa_coordinates[0][0] + south_africa_coordinates[0][2] + kenya_coordinates[0][0] + kenya_coordinates[0][2] + nigeria_coordinates[0][0] + nigeria_coordinates[0][2]\n",
    "print coordinates\n",
    "\n",
    "# keywords for search\n",
    "keywords = ['cancer', 'tumor', 'tumour', 'leukaemia', 'leukemia', 'lymphoma', 'cml', 'burkitt']"
   ]
  },
  {
   "cell_type": "code",
   "execution_count": null,
   "metadata": {},
   "outputs": [
    {
     "name": "stdout",
     "output_type": "stream",
     "text": [
      "one more tweet!\n",
      "{u'quote_count': 0, u'contributors': None, u'truncated': False, u'text': u'But you like your dick sucked yeah? \\n\\nSelfish! https://t.co/EUQju1bguE', u'is_quote_status': True, u'in_reply_to_status_id': None, u'reply_count': 0, u'id': 978664495404011522, u'favorite_count': 0, u'entities': {u'user_mentions': [], u'symbols': [], u'hashtags': [], u'urls': [{u'url': u'https://t.co/EUQju1bguE', u'indices': [47, 70], u'expanded_url': u'https://twitter.com/MykeSuave/status/978664162984415232', u'display_url': u'twitter.com/MykeSuave/stat\\u2026'}]}, u'quoted_status_id': 978664162984415232, u'retweeted': False, u'coordinates': None, u'timestamp_ms': u'1522166773068', u'quoted_status': {u'quote_count': 0, u'contributors': None, u'truncated': False, u'text': u\"Oral cancer is real tho' https://t.co/c55pWFgV8N\", u'is_quote_status': True, u'in_reply_to_status_id': None, u'reply_count': 1, u'id': 978664162984415232, u'favorite_count': 0, u'entities': {u'user_mentions': [], u'symbols': [], u'hashtags': [], u'urls': [{u'url': u'https://t.co/c55pWFgV8N', u'indices': [25, 48], u'expanded_url': u'https://twitter.com/ChenaOnuorah/status/978654336497737729', u'display_url': u'twitter.com/ChenaOnuorah/s\\u2026'}]}, u'quoted_status_id': 978654336497737729, u'retweeted': False, u'coordinates': None, u'source': u'<a href=\"http://twitter.com/download/android\" rel=\"nofollow\">Twitter for Android</a>', u'in_reply_to_screen_name': None, u'id_str': u'978664162984415232', u'display_text_range': [0, 24], u'retweet_count': 0, u'in_reply_to_user_id': None, u'favorited': False, u'user': {u'follow_request_sent': None, u'profile_use_background_image': True, u'default_profile_image': False, u'id': 1686162259, u'default_profile': True, u'verified': False, u'profile_image_url_https': u'https://pbs.twimg.com/profile_images/977977188057313281/nNjiGQZy_normal.jpg', u'profile_sidebar_fill_color': u'DDEEF6', u'profile_text_color': u'333333', u'followers_count': 901, u'profile_sidebar_border_color': u'C0DEED', u'id_str': u'1686162259', u'profile_background_color': u'C0DEED', u'listed_count': 5, u'profile_background_image_url_https': u'https://abs.twimg.com/images/themes/theme1/bg.png', u'utc_offset': -25200, u'statuses_count': 45555, u'description': u'Realist, Pro-feminism.', u'friends_count': 361, u'location': u\"King's Landing \", u'profile_link_color': u'1DA1F2', u'profile_image_url': u'http://pbs.twimg.com/profile_images/977977188057313281/nNjiGQZy_normal.jpg', u'following': None, u'geo_enabled': True, u'profile_banner_url': u'https://pbs.twimg.com/profile_banners/1686162259/1521381548', u'profile_background_image_url': u'http://abs.twimg.com/images/themes/theme1/bg.png', u'name': u'\\u26a1', u'lang': u'en', u'profile_background_tile': False, u'favourites_count': 1369, u'screen_name': u'MykeSuave', u'notifications': None, u'url': None, u'created_at': u'Tue Aug 20 16:06:26 +0000 2013', u'contributors_enabled': False, u'time_zone': u'Pacific Time (US & Canada)', u'protected': False, u'translator_type': u'none', u'is_translator': False}, u'geo': None, u'in_reply_to_user_id_str': None, u'possibly_sensitive': False, u'lang': u'en', u'created_at': u'Tue Mar 27 16:04:53 +0000 2018', u'quoted_status_id_str': u'978654336497737729', u'filter_level': u'low', u'in_reply_to_status_id_str': None, u'place': None}, u'source': u'<a href=\"http://twitter.com/download/android\" rel=\"nofollow\">Twitter for Android</a>', u'in_reply_to_screen_name': None, u'id_str': u'978664495404011522', u'display_text_range': [0, 46], u'retweet_count': 0, u'in_reply_to_user_id': None, u'favorited': False, u'user': {u'follow_request_sent': None, u'profile_use_background_image': True, u'default_profile_image': False, u'id': 41326350, u'default_profile': True, u'verified': False, u'profile_image_url_https': u'https://pbs.twimg.com/profile_images/977301590037188610/qomjlbnb_normal.jpg', u'profile_sidebar_fill_color': u'DDEEF6', u'profile_text_color': u'333333', u'followers_count': 3108, u'profile_sidebar_border_color': u'C0DEED', u'id_str': u'41326350', u'profile_background_color': u'C0DEED', u'listed_count': 28, u'profile_background_image_url_https': u'https://abs.twimg.com/images/themes/theme1/bg.png', u'utc_offset': None, u'statuses_count': 42828, u'description': u'Owner of @chenacosmetics and @Chena_R_Bonnets A Beauty Hair & Beard Care Cosmetics line | Beauty ringlight sales | Gift Hampers | Makeup Products | DM for biz', u'friends_count': 1620, u'location': u'Lagos, Nigeria', u'profile_link_color': u'1DA1F2', u'profile_image_url': u'http://pbs.twimg.com/profile_images/977301590037188610/qomjlbnb_normal.jpg', u'following': None, u'geo_enabled': True, u'profile_banner_url': u'https://pbs.twimg.com/profile_banners/41326350/1466581847', u'profile_background_image_url': u'http://abs.twimg.com/images/themes/theme1/bg.png', u'name': u'Chena', u'lang': u'en', u'profile_background_tile': False, u'favourites_count': 4172, u'screen_name': u'ChenaOnuorah', u'notifications': None, u'url': u'https://tinyurl.com/y6vly7h4', u'created_at': u'Wed May 20 09:21:37 +0000 2009', u'contributors_enabled': False, u'time_zone': None, u'protected': False, u'translator_type': u'none', u'is_translator': False}, u'geo': None, u'in_reply_to_user_id_str': None, u'possibly_sensitive': False, u'lang': u'en', u'created_at': u'Tue Mar 27 16:06:13 +0000 2018', u'quoted_status_id_str': u'978664162984415232', u'filter_level': u'low', u'in_reply_to_status_id_str': None, u'place': None}\n",
      "False\n",
      "no extended_tweet\n",
      "But you like your dick sucked yeah? \n",
      "\n",
      "Selfish! https://t.co/EUQju1bguE\n",
      "But you like your dick sucked yeah? \n",
      "\n",
      "Selfish! https://t.co/EUQju1bguE\n",
      "{'tweet_country': u'Lagos, Nigeria', 'user_id': 41326350, 'tweet_id': 978664495404011522, 'tweet_place': u'Lagos, Nigeria', 'user_screen_name': u'ChenaOnuorah', 'user_name': u'Chena', 'tweet_text': u'But you like your dick sucked yeah? \\n\\nSelfish! https://t.co/EUQju1bguE', 'tweet_time': 'Tue Mar 27 16:06:13 +0000 2018'}\n",
      "{\n",
      "    \"tweet_country\": \"Lagos, Nigeria\",\n",
      "    \"tweet_id\": 978664495404011522,\n",
      "    \"tweet_place\": \"Lagos, Nigeria\",\n",
      "    \"tweet_text\": \"But you like your dick sucked yeah? \\n\\nSelfish! https://t.co/EUQju1bguE\",\n",
      "    \"tweet_time\": \"Tue Mar 27 16:06:13 +0000 2018\",\n",
      "    \"user_id\": 41326350,\n",
      "    \"user_name\": \"Chena\",\n",
      "    \"user_screen_name\": \"ChenaOnuorah\"\n",
      "}\n",
      "one more tweet!\n",
      "{u'quote_count': 0, u'contributors': None, u'truncated': False, u'text': u'RT @bett_wycliffe: Mango is the most popular https://t.co/loAdULA4KQ helps against cancer and lowers cholesterol level', u'is_quote_status': False, u'in_reply_to_status_id': None, u'reply_count': 0, u'id': 978664678112022532, u'favorite_count': 0, u'entities': {u'user_mentions': [{u'id': 711636885039349760, u'indices': [3, 17], u'id_str': u'711636885039349760', u'screen_name': u'bett_wycliffe', u'name': u'Bett Wycliffe'}], u'symbols': [], u'hashtags': [], u'urls': [{u'url': u'https://t.co/loAdULA4KQ', u'indices': [45, 68], u'expanded_url': u'http://fruit.It', u'display_url': u'fruit.It'}]}, u'retweeted': False, u'coordinates': None, u'timestamp_ms': u'1522166816629', u'source': u'<a href=\"http://twitter.com/download/android\" rel=\"nofollow\">Twitter for Android</a>', u'in_reply_to_screen_name': None, u'id_str': u'978664678112022532', u'retweet_count': 0, u'in_reply_to_user_id': None, u'favorited': False, u'retweeted_status': {u'quote_count': 0, u'contributors': None, u'truncated': False, u'text': u'Mango is the most popular https://t.co/loAdULA4KQ helps against cancer and lowers cholesterol level', u'is_quote_status': False, u'in_reply_to_status_id': None, u'reply_count': 0, u'id': 978664327136923651, u'favorite_count': 0, u'source': u'<a href=\"http://twitter.com/download/android\" rel=\"nofollow\">Twitter for Android</a>', u'retweeted': False, u'coordinates': None, u'entities': {u'user_mentions': [], u'symbols': [], u'hashtags': [], u'urls': [{u'url': u'https://t.co/loAdULA4KQ', u'indices': [26, 49], u'expanded_url': u'http://fruit.It', u'display_url': u'fruit.It'}]}, u'in_reply_to_screen_name': None, u'id_str': u'978664327136923651', u'retweet_count': 1, u'in_reply_to_user_id': None, u'favorited': False, u'user': {u'follow_request_sent': None, u'profile_use_background_image': True, u'default_profile_image': False, u'id': 711636885039349760, u'default_profile': True, u'verified': False, u'profile_image_url_https': u'https://pbs.twimg.com/profile_images/920270464412291072/CULOIeYM_normal.jpg', u'profile_sidebar_fill_color': u'DDEEF6', u'profile_text_color': u'333333', u'followers_count': 1354, u'profile_sidebar_border_color': u'C0DEED', u'id_str': u'711636885039349760', u'profile_background_color': u'F5F8FA', u'listed_count': 0, u'profile_background_image_url_https': u'', u'utc_offset': None, u'statuses_count': 126, u'description': u'Born in 7th july attended Lenana School.Currently at Kenyatta University. Interested in politics, medical & drugs research & current world affairs', u'friends_count': 1955, u'location': u'Nairobi, Kenya', u'profile_link_color': u'1DA1F2', u'profile_image_url': u'http://pbs.twimg.com/profile_images/920270464412291072/CULOIeYM_normal.jpg', u'following': None, u'geo_enabled': True, u'profile_background_image_url': u'', u'name': u'Bett Wycliffe', u'lang': u'en', u'profile_background_tile': False, u'favourites_count': 108, u'screen_name': u'bett_wycliffe', u'notifications': None, u'url': None, u'created_at': u'Sun Mar 20 19:33:49 +0000 2016', u'contributors_enabled': False, u'time_zone': None, u'protected': False, u'translator_type': u'none', u'is_translator': False}, u'geo': None, u'in_reply_to_user_id_str': None, u'possibly_sensitive': False, u'lang': u'en', u'created_at': u'Tue Mar 27 16:05:32 +0000 2018', u'filter_level': u'low', u'in_reply_to_status_id_str': None, u'place': None}, u'user': {u'follow_request_sent': None, u'profile_use_background_image': True, u'default_profile_image': False, u'id': 711636885039349760, u'default_profile': True, u'verified': False, u'profile_image_url_https': u'https://pbs.twimg.com/profile_images/920270464412291072/CULOIeYM_normal.jpg', u'profile_sidebar_fill_color': u'DDEEF6', u'profile_text_color': u'333333', u'followers_count': 1354, u'profile_sidebar_border_color': u'C0DEED', u'id_str': u'711636885039349760', u'profile_background_color': u'F5F8FA', u'listed_count': 0, u'profile_background_image_url_https': u'', u'utc_offset': None, u'statuses_count': 127, u'description': u'Born in 7th july attended Lenana School.Currently at Kenyatta University. Interested in politics, medical & drugs research & current world affairs', u'friends_count': 1955, u'location': u'Nairobi, Kenya', u'profile_link_color': u'1DA1F2', u'profile_image_url': u'http://pbs.twimg.com/profile_images/920270464412291072/CULOIeYM_normal.jpg', u'following': None, u'geo_enabled': True, u'profile_background_image_url': u'', u'name': u'Bett Wycliffe', u'lang': u'en', u'profile_background_tile': False, u'favourites_count': 108, u'screen_name': u'bett_wycliffe', u'notifications': None, u'url': None, u'created_at': u'Sun Mar 20 19:33:49 +0000 2016', u'contributors_enabled': False, u'time_zone': None, u'protected': False, u'translator_type': u'none', u'is_translator': False}, u'geo': None, u'in_reply_to_user_id_str': None, u'possibly_sensitive': False, u'lang': u'en', u'created_at': u'Tue Mar 27 16:06:56 +0000 2018', u'filter_level': u'low', u'in_reply_to_status_id_str': None, u'place': None}\n",
      "False\n",
      "no extended_tweet\n",
      "RT @bett_wycliffe: Mango is the most popular https://t.co/loAdULA4KQ helps against cancer and lowers cholesterol level\n",
      "RT @bett_wycliffe: Mango is the most popular https://t.co/loAdULA4KQ helps against cancer and lowers cholesterol level\n",
      "{\n",
      "    \"tweet_country\": \"Nairobi, Kenya\",\n",
      "    \"tweet_id\": 978664678112022532,\n",
      "    \"tweet_place\": \"Nairobi, Kenya\",\n",
      "    \"tweet_text\": \"RT @bett_wycliffe: Mango is the most popular https://t.co/loAdULA4KQ helps against cancer and lowers cholesterol level\",\n",
      "    \"tweet_time\": \"Tue Mar 27 16:06:56 +0000 2018\",\n",
      "    \"user_id\": 711636885039349760,\n",
      "    \"user_name\": \"Bett Wycliffe\",\n",
      "    \"user_screen_name\": \"bett_wycliffe\"\n",
      "}\n"
     ]
    },
    {
     "name": "stdout",
     "output_type": "stream",
     "text": [
      "one more tweet!\n",
      "{u'quote_count': 0, u'contributors': None, u'truncated': False, u'text': u'RT @cieeeerraaa: And wearing pink doesn\\u2019t stop breast cancer. We do it to raise awareness. https://t.co/RnVHIsvShI', u'is_quote_status': True, u'in_reply_to_status_id': None, u'reply_count': 0, u'id': 978665095491411968, u'favorite_count': 0, u'entities': {u'user_mentions': [{u'id': 3587775920, u'indices': [3, 15], u'id_str': u'3587775920', u'screen_name': u'cieeeerraaa', u'name': u'beige rage'}], u'symbols': [], u'hashtags': [], u'urls': [{u'url': u'https://t.co/RnVHIsvShI', u'indices': [91, 114], u'expanded_url': u'https://twitter.com/ewerickson/status/912638615586525184', u'display_url': u'twitter.com/ewerickson/sta\\u2026'}]}, u'quoted_status_id': 912638615586525184, u'retweeted': False, u'coordinates': None, u'timestamp_ms': u'1522166916140', u'quoted_status': {u'quote_count': 3165, u'contributors': None, u'truncated': False, u'text': u'Taking a Knee Did Not Stop a Shooting in Chicago or Raise Anyone Out of Poverty https://t.co/PDPBhkDhzx https://t.co/7lMqBVMRkP', u'is_quote_status': False, u'in_reply_to_status_id': None, u'reply_count': 3996, u'id': 912638615586525184, u'favorite_count': 3109, u'entities': {u'user_mentions': [], u'symbols': [], u'hashtags': [], u'urls': [{u'url': u'https://t.co/PDPBhkDhzx', u'indices': [80, 103], u'expanded_url': u'https://buff.ly/2wTF4zf', u'display_url': u'buff.ly/2wTF4zf'}], u'media': [{u'expanded_url': u'https://twitter.com/EWErickson/status/912638615586525184/photo/1', u'display_url': u'pic.twitter.com/7lMqBVMRkP', u'url': u'https://t.co/7lMqBVMRkP', u'media_url_https': u'https://pbs.twimg.com/media/DKpX-6zW0AAszK4.jpg', u'id_str': u'912638612944113664', u'sizes': {u'small': {u'h': 406, u'resize': u'fit', u'w': 680}, u'large': {u'h': 683, u'resize': u'fit', u'w': 1144}, u'medium': {u'h': 683, u'resize': u'fit', u'w': 1144}, u'thumb': {u'h': 150, u'resize': u'crop', u'w': 150}}, u'indices': [104, 127], u'type': u'photo', u'id': 912638612944113664, u'media_url': u'http://pbs.twimg.com/media/DKpX-6zW0AAszK4.jpg'}]}, u'retweeted': False, u'coordinates': None, u'source': u'<a href=\"http://bufferapp.com\" rel=\"nofollow\">Buffer</a>', u'in_reply_to_screen_name': None, u'id_str': u'912638615586525184', u'display_text_range': [0, 103], u'retweet_count': 1095, u'in_reply_to_user_id': None, u'favorited': False, u'user': {u'follow_request_sent': None, u'profile_use_background_image': True, u'default_profile_image': False, u'id': 640893, u'default_profile': True, u'verified': True, u'profile_image_url_https': u'https://pbs.twimg.com/profile_images/685140910934503425/-5NFgf2e_normal.jpg', u'profile_sidebar_fill_color': u'DDEEF6', u'profile_text_color': u'333333', u'followers_count': 195013, u'profile_sidebar_border_color': u'C0DEED', u'id_str': u'640893', u'profile_background_color': u'C0DEED', u'listed_count': 5331, u'profile_background_image_url_https': u'https://abs.twimg.com/images/themes/theme1/bg.png', u'utc_offset': -14400, u'statuses_count': 156054, u'description': u'Romans 1:16. Writer @Resurgent. Talker @WSBRadio. Speaker (http://premierespeakers.com/contact). Working on my PhD in Theology.', u'friends_count': 1505, u'location': u'Atlanta, GA', u'profile_link_color': u'1DA1F2', u'profile_image_url': u'http://pbs.twimg.com/profile_images/685140910934503425/-5NFgf2e_normal.jpg', u'following': None, u'geo_enabled': True, u'profile_banner_url': u'https://pbs.twimg.com/profile_banners/640893/1451602634', u'profile_background_image_url': u'http://abs.twimg.com/images/themes/theme1/bg.png', u'name': u'Erick Erickson', u'lang': u'en', u'profile_background_tile': False, u'favourites_count': 788, u'screen_name': u'EWErickson', u'notifications': None, u'url': u'http://www.TheResurgent.com', u'created_at': u'Mon Jan 15 22:54:51 +0000 2007', u'contributors_enabled': False, u'time_zone': u'Eastern Time (US & Canada)', u'protected': False, u'translator_type': u'none', u'is_translator': False}, u'geo': None, u'in_reply_to_user_id_str': None, u'possibly_sensitive': False, u'lang': u'en', u'created_at': u'Tue Sep 26 11:22:56 +0000 2017', u'filter_level': u'low', u'in_reply_to_status_id_str': None, u'place': None, u'extended_entities': {u'media': [{u'expanded_url': u'https://twitter.com/EWErickson/status/912638615586525184/photo/1', u'display_url': u'pic.twitter.com/7lMqBVMRkP', u'url': u'https://t.co/7lMqBVMRkP', u'media_url_https': u'https://pbs.twimg.com/media/DKpX-6zW0AAszK4.jpg', u'id_str': u'912638612944113664', u'sizes': {u'small': {u'h': 406, u'resize': u'fit', u'w': 680}, u'large': {u'h': 683, u'resize': u'fit', u'w': 1144}, u'medium': {u'h': 683, u'resize': u'fit', u'w': 1144}, u'thumb': {u'h': 150, u'resize': u'crop', u'w': 150}}, u'indices': [104, 127], u'type': u'photo', u'id': 912638612944113664, u'media_url': u'http://pbs.twimg.com/media/DKpX-6zW0AAszK4.jpg'}]}}, u'source': u'<a href=\"http://twitter.com/download/iphone\" rel=\"nofollow\">Twitter for iPhone</a>', u'in_reply_to_screen_name': None, u'id_str': u'978665095491411968', u'retweet_count': 0, u'in_reply_to_user_id': None, u'favorited': False, u'retweeted_status': {u'quote_count': 2615, u'contributors': None, u'truncated': False, u'text': u'And wearing pink doesn\\u2019t stop breast cancer. We do it to raise awareness. https://t.co/RnVHIsvShI', u'is_quote_status': True, u'in_reply_to_status_id': None, u'reply_count': 2504, u'id': 912737857143431168, u'favorite_count': 591675, u'entities': {u'user_mentions': [], u'symbols': [], u'hashtags': [], u'urls': [{u'url': u'https://t.co/RnVHIsvShI', u'indices': [74, 97], u'expanded_url': u'https://twitter.com/ewerickson/status/912638615586525184', u'display_url': u'twitter.com/ewerickson/sta\\u2026'}]}, u'quoted_status_id': 912638615586525184, u'retweeted': False, u'coordinates': None, u'quoted_status': {u'quote_count': 3165, u'contributors': None, u'truncated': False, u'text': u'Taking a Knee Did Not Stop a Shooting in Chicago or Raise Anyone Out of Poverty https://t.co/PDPBhkDhzx https://t.co/7lMqBVMRkP', u'is_quote_status': False, u'in_reply_to_status_id': None, u'reply_count': 3996, u'id': 912638615586525184, u'favorite_count': 3109, u'entities': {u'user_mentions': [], u'symbols': [], u'hashtags': [], u'urls': [{u'url': u'https://t.co/PDPBhkDhzx', u'indices': [80, 103], u'expanded_url': u'https://buff.ly/2wTF4zf', u'display_url': u'buff.ly/2wTF4zf'}], u'media': [{u'expanded_url': u'https://twitter.com/EWErickson/status/912638615586525184/photo/1', u'display_url': u'pic.twitter.com/7lMqBVMRkP', u'url': u'https://t.co/7lMqBVMRkP', u'media_url_https': u'https://pbs.twimg.com/media/DKpX-6zW0AAszK4.jpg', u'id_str': u'912638612944113664', u'sizes': {u'small': {u'h': 406, u'resize': u'fit', u'w': 680}, u'large': {u'h': 683, u'resize': u'fit', u'w': 1144}, u'medium': {u'h': 683, u'resize': u'fit', u'w': 1144}, u'thumb': {u'h': 150, u'resize': u'crop', u'w': 150}}, u'indices': [104, 127], u'type': u'photo', u'id': 912638612944113664, u'media_url': u'http://pbs.twimg.com/media/DKpX-6zW0AAszK4.jpg'}]}, u'retweeted': False, u'coordinates': None, u'source': u'<a href=\"http://bufferapp.com\" rel=\"nofollow\">Buffer</a>', u'in_reply_to_screen_name': None, u'id_str': u'912638615586525184', u'display_text_range': [0, 103], u'retweet_count': 1095, u'in_reply_to_user_id': None, u'favorited': False, u'user': {u'follow_request_sent': None, u'profile_use_background_image': True, u'default_profile_image': False, u'id': 640893, u'default_profile': True, u'verified': True, u'profile_image_url_https': u'https://pbs.twimg.com/profile_images/685140910934503425/-5NFgf2e_normal.jpg', u'profile_sidebar_fill_color': u'DDEEF6', u'profile_text_color': u'333333', u'followers_count': 195013, u'profile_sidebar_border_color': u'C0DEED', u'id_str': u'640893', u'profile_background_color': u'C0DEED', u'listed_count': 5331, u'profile_background_image_url_https': u'https://abs.twimg.com/images/themes/theme1/bg.png', u'utc_offset': -14400, u'statuses_count': 156054, u'description': u'Romans 1:16. Writer @Resurgent. Talker @WSBRadio. Speaker (http://premierespeakers.com/contact). Working on my PhD in Theology.', u'friends_count': 1505, u'location': u'Atlanta, GA', u'profile_link_color': u'1DA1F2', u'profile_image_url': u'http://pbs.twimg.com/profile_images/685140910934503425/-5NFgf2e_normal.jpg', u'following': None, u'geo_enabled': True, u'profile_banner_url': u'https://pbs.twimg.com/profile_banners/640893/1451602634', u'profile_background_image_url': u'http://abs.twimg.com/images/themes/theme1/bg.png', u'name': u'Erick Erickson', u'lang': u'en', u'profile_background_tile': False, u'favourites_count': 788, u'screen_name': u'EWErickson', u'notifications': None, u'url': u'http://www.TheResurgent.com', u'created_at': u'Mon Jan 15 22:54:51 +0000 2007', u'contributors_enabled': False, u'time_zone': u'Eastern Time (US & Canada)', u'protected': False, u'translator_type': u'none', u'is_translator': False}, u'geo': None, u'in_reply_to_user_id_str': None, u'possibly_sensitive': False, u'lang': u'en', u'created_at': u'Tue Sep 26 11:22:56 +0000 2017', u'filter_level': u'low', u'in_reply_to_status_id_str': None, u'place': None, u'extended_entities': {u'media': [{u'expanded_url': u'https://twitter.com/EWErickson/status/912638615586525184/photo/1', u'display_url': u'pic.twitter.com/7lMqBVMRkP', u'url': u'https://t.co/7lMqBVMRkP', u'media_url_https': u'https://pbs.twimg.com/media/DKpX-6zW0AAszK4.jpg', u'id_str': u'912638612944113664', u'sizes': {u'small': {u'h': 406, u'resize': u'fit', u'w': 680}, u'large': {u'h': 683, u'resize': u'fit', u'w': 1144}, u'medium': {u'h': 683, u'resize': u'fit', u'w': 1144}, u'thumb': {u'h': 150, u'resize': u'crop', u'w': 150}}, u'indices': [104, 127], u'type': u'photo', u'id': 912638612944113664, u'media_url': u'http://pbs.twimg.com/media/DKpX-6zW0AAszK4.jpg'}]}}, u'source': u'<a href=\"http://twitter.com/download/iphone\" rel=\"nofollow\">Twitter for iPhone</a>', u'in_reply_to_screen_name': None, u'id_str': u'912737857143431168', u'display_text_range': [0, 73], u'retweet_count': 287251, u'in_reply_to_user_id': None, u'favorited': False, u'user': {u'follow_request_sent': None, u'profile_use_background_image': False, u'default_profile_image': False, u'id': 3587775920, u'default_profile': False, u'verified': False, u'profile_image_url_https': u'https://pbs.twimg.com/profile_images/972390940710092800/26ImGcFo_normal.jpg', u'profile_sidebar_fill_color': u'000000', u'profile_text_color': u'000000', u'followers_count': 3089, u'profile_sidebar_border_color': u'000000', u'id_str': u'3587775920', u'profile_background_color': u'000000', u'listed_count': 139, u'profile_background_image_url_https': u'https://abs.twimg.com/images/themes/theme1/bg.png', u'utc_offset': None, u'statuses_count': 44126, u'description': u'Mila Rose \\U0001f339. Live4Gen. #BlackLivesMatter', u'friends_count': 1516, u'location': u'San Diego, CA', u'profile_link_color': u'F58EA8', u'profile_image_url': u'http://pbs.twimg.com/profile_images/972390940710092800/26ImGcFo_normal.jpg', u'following': None, u'geo_enabled': True, u'profile_banner_url': u'https://pbs.twimg.com/profile_banners/3587775920/1519076600', u'profile_background_image_url': u'http://abs.twimg.com/images/themes/theme1/bg.png', u'name': u'beige rage', u'lang': u'en', u'profile_background_tile': False, u'favourites_count': 78504, u'screen_name': u'cieeeerraaa', u'notifications': None, u'url': None, u'created_at': u'Wed Sep 16 23:30:48 +0000 2015', u'contributors_enabled': False, u'time_zone': None, u'protected': False, u'translator_type': u'none', u'is_translator': False}, u'geo': None, u'in_reply_to_user_id_str': None, u'possibly_sensitive': False, u'lang': u'en', u'created_at': u'Tue Sep 26 17:57:17 +0000 2017', u'quoted_status_id_str': u'912638615586525184', u'filter_level': u'low', u'in_reply_to_status_id_str': None, u'place': {u'full_name': u'California, USA', u'url': u'https://api.twitter.com/1.1/geo/id/fbd6d2f5a4e4a15e.json', u'country': u'United States', u'place_type': u'admin', u'bounding_box': {u'type': u'Polygon', u'coordinates': [[[-124.482003, 32.528832], [-124.482003, 42.009519], [-114.131212, 42.009519], [-114.131212, 32.528832]]]}, u'country_code': u'US', u'attributes': {}, u'id': u'fbd6d2f5a4e4a15e', u'name': u'California'}}, u'user': {u'follow_request_sent': None, u'profile_use_background_image': True, u'default_profile_image': False, u'id': 424573263, u'default_profile': False, u'verified': False, u'profile_image_url_https': u'https://pbs.twimg.com/profile_images/977358570579664896/Fz4yxG7F_normal.jpg', u'profile_sidebar_fill_color': u'DDEEF6', u'profile_text_color': u'333333', u'followers_count': 2212, u'profile_sidebar_border_color': u'FFFFFF', u'id_str': u'424573263', u'profile_background_color': u'C0DEED', u'listed_count': 23, u'profile_background_image_url_https': u'https://abs.twimg.com/images/themes/theme1/bg.png', u'utc_offset': -18000, u'statuses_count': 72266, u'description': u'destined to be great | University of Maryland Track & Field | 1908', u'friends_count': 777, u'location': u'Lagos, Nigeria', u'profile_link_color': u'B3004E', u'profile_image_url': u'http://pbs.twimg.com/profile_images/977358570579664896/Fz4yxG7F_normal.jpg', u'following': None, u'geo_enabled': True, u'profile_banner_url': u'https://pbs.twimg.com/profile_banners/424573263/1496988652', u'profile_background_image_url': u'http://abs.twimg.com/images/themes/theme1/bg.png', u'name': u'Arewa', u'lang': u'en', u'profile_background_tile': False, u'favourites_count': 18082, u'screen_name': u'in_my_VICinity', u'notifications': None, u'url': None, u'created_at': u'Tue Nov 29 23:03:18 +0000 2011', u'contributors_enabled': False, u'time_zone': u'Central Time (US & Canada)', u'protected': False, u'translator_type': u'none', u'is_translator': False}, u'geo': None, u'in_reply_to_user_id_str': None, u'possibly_sensitive': False, u'lang': u'en', u'created_at': u'Tue Mar 27 16:08:36 +0000 2018', u'quoted_status_id_str': u'912638615586525184', u'filter_level': u'low', u'in_reply_to_status_id_str': None, u'place': None}\n",
      "False\n",
      "no extended_tweet\n",
      "RT @cieeeerraaa: And wearing pink doesn’t stop breast cancer. We do it to raise awareness. https://t.co/RnVHIsvShI\n",
      "RT @cieeeerraaa: And wearing pink doesn’t stop breast cancer. We do it to raise awareness. https://t.co/RnVHIsvShI\n",
      "{\n",
      "    \"tweet_country\": \"Lagos, Nigeria\",\n",
      "    \"tweet_id\": 978665095491411968,\n",
      "    \"tweet_place\": \"Lagos, Nigeria\",\n",
      "    \"tweet_text\": \"RT @cieeeerraaa: And wearing pink doesn\\u2019t stop breast cancer. We do it to raise awareness. https://t.co/RnVHIsvShI\",\n",
      "    \"tweet_time\": \"Tue Mar 27 16:08:36 +0000 2018\",\n",
      "    \"user_id\": 424573263,\n",
      "    \"user_name\": \"Arewa\",\n",
      "    \"user_screen_name\": \"in_my_VICinity\"\n",
      "}\n"
     ]
    },
    {
     "name": "stdout",
     "output_type": "stream",
     "text": [
      "one more tweet!\n",
      "{u'quote_count': 0, u'contributors': None, u'truncated': False, u'text': u'RT @WHO: Vaccine-preventable diseases include:\\nCervical cancer\\nCholera\\nDiphtheria\\nHep B\\nInfluenza\\nJapanese encephalitis\\nMeasles\\nMumps\\nPertu\\u2026', u'is_quote_status': False, u'in_reply_to_status_id': None, u'reply_count': 0, u'id': 978665288161005569, u'favorite_count': 0, u'entities': {u'user_mentions': [{u'id': 14499829, u'indices': [3, 7], u'id_str': u'14499829', u'screen_name': u'WHO', u'name': u'WHO'}], u'symbols': [], u'hashtags': [], u'urls': []}, u'retweeted': False, u'coordinates': None, u'timestamp_ms': u'1522166962076', u'source': u'<a href=\"http://twitter.com/download/iphone\" rel=\"nofollow\">Twitter for iPhone</a>', u'in_reply_to_screen_name': None, u'id_str': u'978665288161005569', u'retweet_count': 0, u'in_reply_to_user_id': None, u'favorited': False, u'retweeted_status': {u'quote_count': 115, u'contributors': None, u'truncated': True, u'text': u'Vaccine-preventable diseases include:\\nCervical cancer\\nCholera\\nDiphtheria\\nHep B\\nInfluenza\\nJapanese encephalitis\\nMeas\\u2026 https://t.co/8SyYtzMpWB', u'is_quote_status': False, u'in_reply_to_status_id': None, u'reply_count': 29, u'id': 978581069233496064, u'favorite_count': 1703, u'entities': {u'user_mentions': [], u'symbols': [], u'hashtags': [], u'urls': [{u'url': u'https://t.co/8SyYtzMpWB', u'indices': [117, 140], u'expanded_url': u'https://twitter.com/i/web/status/978581069233496064', u'display_url': u'twitter.com/i/web/status/9\\u2026'}]}, u'retweeted': False, u'coordinates': None, u'source': u'<a href=\"https://studio.twitter.com\" rel=\"nofollow\">Media Studio</a>', u'in_reply_to_screen_name': None, u'id_str': u'978581069233496064', u'display_text_range': [0, 140], u'retweet_count': 1701, u'in_reply_to_user_id': None, u'favorited': False, u'user': {u'follow_request_sent': None, u'profile_use_background_image': True, u'default_profile_image': False, u'id': 14499829, u'default_profile': False, u'verified': True, u'profile_image_url_https': u'https://pbs.twimg.com/profile_images/875476478988886016/_l61qZdR_normal.jpg', u'profile_sidebar_fill_color': u'D9D9D9', u'profile_text_color': u'000000', u'followers_count': 4408426, u'profile_sidebar_border_color': u'8C8C8C', u'id_str': u'14499829', u'profile_background_color': u'D0ECF8', u'listed_count': 23758, u'profile_background_image_url_https': u'https://pbs.twimg.com/profile_background_images/543339005/who_twitter_gradientblue.png', u'utc_offset': 7200, u'statuses_count': 31822, u'description': u\"Official Twitter account of the World Health Organization, the United Nations' health agency\", u'friends_count': 1580, u'location': u'Geneva, Switzerland', u'profile_link_color': u'0396DB', u'profile_image_url': u'http://pbs.twimg.com/profile_images/875476478988886016/_l61qZdR_normal.jpg', u'following': None, u'geo_enabled': True, u'profile_banner_url': u'https://pbs.twimg.com/profile_banners/14499829/1464719217', u'profile_background_image_url': u'http://pbs.twimg.com/profile_background_images/543339005/who_twitter_gradientblue.png', u'name': u'WHO', u'lang': u'en', u'profile_background_tile': True, u'favourites_count': 6503, u'screen_name': u'WHO', u'notifications': None, u'url': u'http://www.who.int', u'created_at': u'Wed Apr 23 19:56:27 +0000 2008', u'contributors_enabled': False, u'time_zone': u'Bern', u'protected': False, u'translator_type': u'regular', u'is_translator': False}, u'geo': None, u'in_reply_to_user_id_str': None, u'possibly_sensitive': False, u'lang': u'en', u'extended_tweet': {u'display_text_range': [0, 275], u'entities': {u'user_mentions': [], u'symbols': [], u'hashtags': [{u'indices': [215, 228], u'text': u'VaccinesWork'}], u'urls': [], u'media': [{u'additional_media_info': {u'monetizable': False, u'embeddable': True, u'description': u'', u'title': u'5 facts on vaccines'}, u'expanded_url': u'https://twitter.com/WHO/status/978581069233496064/video/1', u'display_url': u'pic.twitter.com/IFJThGddNS', u'url': u'https://t.co/IFJThGddNS', u'media_url_https': u'https://pbs.twimg.com/ext_tw_video_thumb/961538981300142080/pu/img/OFAgaKyJfaLZiNU_.jpg', u'video_info': {u'aspect_ratio': [1, 1], u'duration_millis': 52549, u'variants': [{u'url': u'https://video.twimg.com/ext_tw_video/961538981300142080/pu/pl/Qv7e8me_nJtSv5Rl.m3u8', u'content_type': u'application/x-mpegURL'}, {u'url': u'https://video.twimg.com/ext_tw_video/961538981300142080/pu/vid/720x720/dR2Ie6HjPNS91stz.mp4', u'bitrate': 1280000, u'content_type': u'video/mp4'}, {u'url': u'https://video.twimg.com/ext_tw_video/961538981300142080/pu/vid/240x240/Thkso33ltJmvcACf.mp4', u'bitrate': 256000, u'content_type': u'video/mp4'}, {u'url': u'https://video.twimg.com/ext_tw_video/961538981300142080/pu/vid/480x480/V7Jgi78C-L5rOBXd.mp4', u'bitrate': 832000, u'content_type': u'video/mp4'}]}, u'id_str': u'961538981300142080', u'sizes': {u'small': {u'h': 680, u'resize': u'fit', u'w': 680}, u'large': {u'h': 720, u'resize': u'fit', u'w': 720}, u'medium': {u'h': 720, u'resize': u'fit', u'w': 720}, u'thumb': {u'h': 150, u'resize': u'crop', u'w': 150}}, u'indices': [276, 299], u'type': u'video', u'id': 961538981300142080, u'media_url': u'http://pbs.twimg.com/ext_tw_video_thumb/961538981300142080/pu/img/OFAgaKyJfaLZiNU_.jpg'}]}, u'extended_entities': {u'media': [{u'additional_media_info': {u'monetizable': False, u'embeddable': True, u'description': u'', u'title': u'5 facts on vaccines'}, u'expanded_url': u'https://twitter.com/WHO/status/978581069233496064/video/1', u'display_url': u'pic.twitter.com/IFJThGddNS', u'url': u'https://t.co/IFJThGddNS', u'media_url_https': u'https://pbs.twimg.com/ext_tw_video_thumb/961538981300142080/pu/img/OFAgaKyJfaLZiNU_.jpg', u'video_info': {u'aspect_ratio': [1, 1], u'duration_millis': 52549, u'variants': [{u'url': u'https://video.twimg.com/ext_tw_video/961538981300142080/pu/pl/Qv7e8me_nJtSv5Rl.m3u8', u'content_type': u'application/x-mpegURL'}, {u'url': u'https://video.twimg.com/ext_tw_video/961538981300142080/pu/vid/720x720/dR2Ie6HjPNS91stz.mp4', u'bitrate': 1280000, u'content_type': u'video/mp4'}, {u'url': u'https://video.twimg.com/ext_tw_video/961538981300142080/pu/vid/240x240/Thkso33ltJmvcACf.mp4', u'bitrate': 256000, u'content_type': u'video/mp4'}, {u'url': u'https://video.twimg.com/ext_tw_video/961538981300142080/pu/vid/480x480/V7Jgi78C-L5rOBXd.mp4', u'bitrate': 832000, u'content_type': u'video/mp4'}]}, u'id_str': u'961538981300142080', u'sizes': {u'small': {u'h': 680, u'resize': u'fit', u'w': 680}, u'large': {u'h': 720, u'resize': u'fit', u'w': 720}, u'medium': {u'h': 720, u'resize': u'fit', u'w': 720}, u'thumb': {u'h': 150, u'resize': u'crop', u'w': 150}}, u'indices': [276, 299], u'type': u'video', u'id': 961538981300142080, u'media_url': u'http://pbs.twimg.com/ext_tw_video_thumb/961538981300142080/pu/img/OFAgaKyJfaLZiNU_.jpg'}]}, u'full_text': u'Vaccine-preventable diseases include:\\nCervical cancer\\nCholera\\nDiphtheria\\nHep B\\nInfluenza\\nJapanese encephalitis\\nMeasles\\nMumps\\nPertussis\\nPneumonia\\nPolio\\nRabies\\nRotavirus\\nRubella\\nTetanus\\nTyphoid\\nVaricella\\nYellow Fever\\n#VaccinesWork!\\nHere are 5 facts on vaccines you need to know https://t.co/IFJThGddNS'}, u'created_at': u'Tue Mar 27 10:34:42 +0000 2018', u'filter_level': u'low', u'in_reply_to_status_id_str': None, u'place': None}, u'user': {u'follow_request_sent': None, u'profile_use_background_image': True, u'default_profile_image': False, u'id': 178283032, u'default_profile': False, u'verified': False, u'profile_image_url_https': u'https://pbs.twimg.com/profile_images/978517265036533760/aBllcRiu_normal.jpg', u'profile_sidebar_fill_color': u'DDEEF6', u'profile_text_color': u'333333', u'followers_count': 123, u'profile_sidebar_border_color': u'C0DEED', u'id_str': u'178283032', u'profile_background_color': u'C0DEED', u'listed_count': 1, u'profile_background_image_url_https': u'https://pbs.twimg.com/profile_background_images/168034000/26012010213.jpg', u'utc_offset': 7200, u'statuses_count': 962, u'description': u'la bella vita', u'friends_count': 971, u'location': u'South Africa', u'profile_link_color': u'0084B4', u'profile_image_url': u'http://pbs.twimg.com/profile_images/978517265036533760/aBllcRiu_normal.jpg', u'following': None, u'geo_enabled': True, u'profile_banner_url': u'https://pbs.twimg.com/profile_banners/178283032/1365604421', u'profile_background_image_url': u'http://pbs.twimg.com/profile_background_images/168034000/26012010213.jpg', u'name': u'Kenneth Samolapo', u'lang': u'en', u'profile_background_tile': True, u'favourites_count': 10, u'screen_name': u'KSamolapo', u'notifications': None, u'url': u'http://www.solplaatje.org.za', u'created_at': u'Sat Aug 14 09:55:21 +0000 2010', u'contributors_enabled': False, u'time_zone': u'Pretoria', u'protected': False, u'translator_type': u'none', u'is_translator': False}, u'geo': None, u'in_reply_to_user_id_str': None, u'lang': u'en', u'created_at': u'Tue Mar 27 16:09:22 +0000 2018', u'filter_level': u'low', u'in_reply_to_status_id_str': None, u'place': None}\n",
      "False\n",
      "no extended_tweet\n",
      "RT @WHO: Vaccine-preventable diseases include:\n",
      "Cervical cancer\n",
      "Cholera\n",
      "Diphtheria\n",
      "Hep B\n",
      "Influenza\n",
      "Japanese encephalitis\n",
      "Measles\n",
      "Mumps\n",
      "Pertu…\n",
      "RT @WHO: Vaccine-preventable diseases include:\n",
      "Cervical cancer\n",
      "Cholera\n",
      "Diphtheria\n",
      "Hep B\n",
      "Influenza\n",
      "Japanese encephalitis\n",
      "Measles\n",
      "Mumps\n",
      "Pertu…\n",
      "{\n",
      "    \"tweet_country\": \"South Africa\",\n",
      "    \"tweet_id\": 978665288161005569,\n",
      "    \"tweet_place\": \"South Africa\",\n",
      "    \"tweet_text\": \"RT @WHO: Vaccine-preventable diseases include:\\nCervical cancer\\nCholera\\nDiphtheria\\nHep B\\nInfluenza\\nJapanese encephalitis\\nMeasles\\nMumps\\nPertu\\u2026\",\n",
      "    \"tweet_time\": \"Tue Mar 27 16:09:22 +0000 2018\",\n",
      "    \"user_id\": 178283032,\n",
      "    \"user_name\": \"Kenneth Samolapo\",\n",
      "    \"user_screen_name\": \"KSamolapo\"\n",
      "}\n"
     ]
    },
    {
     "name": "stdout",
     "output_type": "stream",
     "text": [
      "one more tweet!\n",
      "{u'quote_count': 0, u'contributors': None, u'truncated': False, u'text': u'RT @PoojaMedia: NFF President, @PinnickAmaju led his team as they visit Super Eagles GK, Carl Ikeme (undergoing treatment for leukemia) ahe\\u2026', u'is_quote_status': False, u'in_reply_to_status_id': None, u'reply_count': 0, u'id': 978665502355664897, u'favorite_count': 0, u'entities': {u'user_mentions': [{u'id': 461888257, u'indices': [3, 14], u'id_str': u'461888257', u'screen_name': u'PoojaMedia', u'name': u'POOJA...'}, {u'id': 3197437564, u'indices': [31, 44], u'id_str': u'3197437564', u'screen_name': u'PinnickAmaju', u'name': u'Amaju Melvin Pinnick'}], u'symbols': [], u'hashtags': [], u'urls': []}, u'retweeted': False, u'coordinates': None, u'timestamp_ms': u'1522167013144', u'source': u'<a href=\"http://twitter.com/download/android\" rel=\"nofollow\">Twitter for Android</a>', u'in_reply_to_screen_name': None, u'id_str': u'978665502355664897', u'retweet_count': 0, u'in_reply_to_user_id': None, u'favorited': False, u'retweeted_status': {u'quote_count': 5, u'contributors': None, u'truncated': True, u'text': u'NFF President, @PinnickAmaju led his team as they visit Super Eagles GK, Carl Ikeme (undergoing treatment for leuke\\u2026 https://t.co/B4MFtjz9zX', u'is_quote_status': False, u'in_reply_to_status_id': None, u'reply_count': 0, u'id': 978648239548391424, u'favorite_count': 22, u'entities': {u'user_mentions': [{u'id': 3197437564, u'indices': [15, 28], u'id_str': u'3197437564', u'screen_name': u'PinnickAmaju', u'name': u'Amaju Melvin Pinnick'}], u'symbols': [], u'hashtags': [], u'urls': [{u'url': u'https://t.co/B4MFtjz9zX', u'indices': [117, 140], u'expanded_url': u'https://twitter.com/i/web/status/978648239548391424', u'display_url': u'twitter.com/i/web/status/9\\u2026'}]}, u'retweeted': False, u'coordinates': None, u'source': u'<a href=\"http://twitter.com/download/android\" rel=\"nofollow\">Twitter for Android</a>', u'in_reply_to_screen_name': None, u'id_str': u'978648239548391424', u'display_text_range': [0, 140], u'retweet_count': 26, u'in_reply_to_user_id': None, u'favorited': False, u'user': {u'follow_request_sent': None, u'profile_use_background_image': False, u'default_profile_image': False, u'id': 461888257, u'default_profile': False, u'verified': False, u'profile_image_url_https': u'https://pbs.twimg.com/profile_images/961241364053839872/p30BOdxr_normal.jpg', u'profile_sidebar_fill_color': u'000000', u'profile_text_color': u'000000', u'followers_count': 39287, u'profile_sidebar_border_color': u'000000', u'id_str': u'461888257', u'profile_background_color': u'000000', u'listed_count': 85, u'profile_background_image_url_https': u'https://abs.twimg.com/images/themes/theme1/bg.png', u'utc_offset': 3600, u'statuses_count': 141335, u'description': u'Digital Solutions Brand | Publisher, http://sportpageng.com | Radio Show: @Sports_Numberz | #GoalFest2017 Influencer Of The Year | \\U0001f4e7: Poojamediacomms@gmail.com', u'friends_count': 18332, u'location': u'Nigeria', u'profile_link_color': u'1B95E0', u'profile_image_url': u'http://pbs.twimg.com/profile_images/961241364053839872/p30BOdxr_normal.jpg', u'following': None, u'geo_enabled': True, u'profile_banner_url': u'https://pbs.twimg.com/profile_banners/461888257/1487111569', u'profile_background_image_url': u'http://abs.twimg.com/images/themes/theme1/bg.png', u'name': u'POOJA...', u'lang': u'en', u'profile_background_tile': False, u'favourites_count': 2146, u'screen_name': u'PoojaMedia', u'notifications': None, u'url': u'https://www.youtube.com/channel/UCY3RI2AblviXE95SgUpH2mQ', u'created_at': u'Thu Jan 12 09:32:10 +0000 2012', u'contributors_enabled': False, u'time_zone': u'London', u'protected': False, u'translator_type': u'none', u'is_translator': False}, u'geo': None, u'in_reply_to_user_id_str': None, u'possibly_sensitive': False, u'lang': u'en', u'extended_tweet': {u'display_text_range': [0, 229], u'entities': {u'user_mentions': [{u'id': 3197437564, u'indices': [15, 28], u'id_str': u'3197437564', u'screen_name': u'PinnickAmaju', u'name': u'Amaju Melvin Pinnick'}], u'symbols': [], u'hashtags': [{u'indices': [215, 229], u'text': u'PoojaFootball'}], u'urls': [], u'media': [{u'expanded_url': u'https://twitter.com/PoojaMedia/status/978648239548391424/photo/1', u'display_url': u'pic.twitter.com/GhxqTcYf9d', u'url': u'https://t.co/GhxqTcYf9d', u'media_url_https': u'https://pbs.twimg.com/media/DZTbVV2WsAUgZz8.jpg', u'id_str': u'978648178735099909', u'sizes': {u'large': {u'h': 1536, u'resize': u'fit', u'w': 2048}, u'small': {u'h': 510, u'resize': u'fit', u'w': 680}, u'medium': {u'h': 900, u'resize': u'fit', u'w': 1200}, u'thumb': {u'h': 150, u'resize': u'crop', u'w': 150}}, u'indices': [230, 253], u'type': u'photo', u'id': 978648178735099909, u'media_url': u'http://pbs.twimg.com/media/DZTbVV2WsAUgZz8.jpg'}]}, u'extended_entities': {u'media': [{u'expanded_url': u'https://twitter.com/PoojaMedia/status/978648239548391424/photo/1', u'display_url': u'pic.twitter.com/GhxqTcYf9d', u'url': u'https://t.co/GhxqTcYf9d', u'media_url_https': u'https://pbs.twimg.com/media/DZTbVV2WsAUgZz8.jpg', u'id_str': u'978648178735099909', u'sizes': {u'large': {u'h': 1536, u'resize': u'fit', u'w': 2048}, u'small': {u'h': 510, u'resize': u'fit', u'w': 680}, u'medium': {u'h': 900, u'resize': u'fit', u'w': 1200}, u'thumb': {u'h': 150, u'resize': u'crop', u'w': 150}}, u'indices': [230, 253], u'type': u'photo', u'id': 978648178735099909, u'media_url': u'http://pbs.twimg.com/media/DZTbVV2WsAUgZz8.jpg'}]}, u'full_text': u'NFF President, @PinnickAmaju led his team as they visit Super Eagles GK, Carl Ikeme (undergoing treatment for leukemia) ahead of the Serbia game. \\n\\nHe will do the customary kick when Nigeria play England on June 2. #PoojaFootball https://t.co/GhxqTcYf9d'}, u'created_at': u'Tue Mar 27 15:01:37 +0000 2018', u'filter_level': u'low', u'in_reply_to_status_id_str': None, u'place': None}, u'user': {u'follow_request_sent': None, u'profile_use_background_image': True, u'default_profile_image': False, u'id': 1955018599, u'default_profile': True, u'verified': False, u'profile_image_url_https': u'https://pbs.twimg.com/profile_images/935602062460686342/Uqgf9GY5_normal.jpg', u'profile_sidebar_fill_color': u'DDEEF6', u'profile_text_color': u'333333', u'followers_count': 971, u'profile_sidebar_border_color': u'C0DEED', u'id_str': u'1955018599', u'profile_background_color': u'C0DEED', u'listed_count': 0, u'profile_background_image_url_https': u'https://abs.twimg.com/images/themes/theme1/bg.png', u'utc_offset': None, u'statuses_count': 6160, u'description': u'What can I say, just a simple and cool Guy\\U0001f913', u'friends_count': 1071, u'location': u'Lagos, Nigeria', u'profile_link_color': u'1DA1F2', u'profile_image_url': u'http://pbs.twimg.com/profile_images/935602062460686342/Uqgf9GY5_normal.jpg', u'following': None, u'geo_enabled': True, u'profile_banner_url': u'https://pbs.twimg.com/profile_banners/1955018599/1500159713', u'profile_background_image_url': u'http://abs.twimg.com/images/themes/theme1/bg.png', u'name': u'KAY\\U0001f320\\U0001f534.', u'lang': u'en', u'profile_background_tile': False, u'favourites_count': 3858, u'screen_name': u'ikayzz_', u'notifications': None, u'url': None, u'created_at': u'Fri Oct 11 20:10:40 +0000 2013', u'contributors_enabled': False, u'time_zone': None, u'protected': False, u'translator_type': u'none', u'is_translator': False}, u'geo': None, u'in_reply_to_user_id_str': None, u'lang': u'en', u'created_at': u'Tue Mar 27 16:10:13 +0000 2018', u'filter_level': u'low', u'in_reply_to_status_id_str': None, u'place': None}\n",
      "False\n",
      "no extended_tweet\n",
      "RT @PoojaMedia: NFF President, @PinnickAmaju led his team as they visit Super Eagles GK, Carl Ikeme (undergoing treatment for leukemia) ahe…\n",
      "RT @PoojaMedia: NFF President, @PinnickAmaju led his team as they visit Super Eagles GK, Carl Ikeme (undergoing treatment for leukemia) ahe…\n",
      "{\n",
      "    \"tweet_country\": \"Lagos, Nigeria\",\n",
      "    \"tweet_id\": 978665502355664897,\n",
      "    \"tweet_place\": \"Lagos, Nigeria\",\n",
      "    \"tweet_text\": \"RT @PoojaMedia: NFF President, @PinnickAmaju led his team as they visit Super Eagles GK, Carl Ikeme (undergoing treatment for leukemia) ahe\\u2026\",\n",
      "    \"tweet_time\": \"Tue Mar 27 16:10:13 +0000 2018\",\n",
      "    \"user_id\": 1955018599,\n",
      "    \"user_name\": \"KAY\\ud83c\\udf20\\ud83d\\udd34.\",\n",
      "    \"user_screen_name\": \"ikayzz_\"\n",
      "}\n"
     ]
    },
    {
     "name": "stdout",
     "output_type": "stream",
     "text": [
      "one more tweet!\n",
      "{u'quote_count': 0, u'contributors': None, u'truncated': False, u'text': u'RT @Jessy_Lea: #VaccinesWork https://t.co/uh0pVlj0d0', u'is_quote_status': True, u'in_reply_to_status_id': None, u'reply_count': 0, u'id': 978665561512120320, u'favorite_count': 0, u'entities': {u'user_mentions': [{u'id': 46400612, u'indices': [3, 13], u'id_str': u'46400612', u'screen_name': u'Jessy_Lea', u'name': u'Jessica Symons'}], u'symbols': [], u'hashtags': [{u'indices': [15, 28], u'text': u'VaccinesWork'}], u'urls': [{u'url': u'https://t.co/uh0pVlj0d0', u'indices': [29, 52], u'expanded_url': u'https://twitter.com/WHO/status/978581069233496064', u'display_url': u'twitter.com/WHO/status/978\\u2026'}]}, u'quoted_status_id': 978581069233496064, u'retweeted': False, u'coordinates': None, u'timestamp_ms': u'1522167027248', u'quoted_status': {u'quote_count': 115, u'contributors': None, u'truncated': True, u'text': u'Vaccine-preventable diseases include:\\nCervical cancer\\nCholera\\nDiphtheria\\nHep B\\nInfluenza\\nJapanese encephalitis\\nMeas\\u2026 https://t.co/8SyYtzMpWB', u'is_quote_status': False, u'in_reply_to_status_id': None, u'reply_count': 29, u'id': 978581069233496064, u'favorite_count': 1706, u'entities': {u'user_mentions': [], u'symbols': [], u'hashtags': [], u'urls': [{u'url': u'https://t.co/8SyYtzMpWB', u'indices': [117, 140], u'expanded_url': u'https://twitter.com/i/web/status/978581069233496064', u'display_url': u'twitter.com/i/web/status/9\\u2026'}]}, u'retweeted': False, u'coordinates': None, u'source': u'<a href=\"https://studio.twitter.com\" rel=\"nofollow\">Media Studio</a>', u'in_reply_to_screen_name': None, u'id_str': u'978581069233496064', u'display_text_range': [0, 140], u'retweet_count': 1705, u'in_reply_to_user_id': None, u'favorited': False, u'user': {u'follow_request_sent': None, u'profile_use_background_image': True, u'default_profile_image': False, u'id': 14499829, u'default_profile': False, u'verified': True, u'profile_image_url_https': u'https://pbs.twimg.com/profile_images/875476478988886016/_l61qZdR_normal.jpg', u'profile_sidebar_fill_color': u'D9D9D9', u'profile_text_color': u'000000', u'followers_count': 4408434, u'profile_sidebar_border_color': u'8C8C8C', u'id_str': u'14499829', u'profile_background_color': u'D0ECF8', u'listed_count': 23759, u'profile_background_image_url_https': u'https://pbs.twimg.com/profile_background_images/543339005/who_twitter_gradientblue.png', u'utc_offset': 7200, u'statuses_count': 31822, u'description': u\"Official Twitter account of the World Health Organization, the United Nations' health agency\", u'friends_count': 1580, u'location': u'Geneva, Switzerland', u'profile_link_color': u'0396DB', u'profile_image_url': u'http://pbs.twimg.com/profile_images/875476478988886016/_l61qZdR_normal.jpg', u'following': None, u'geo_enabled': True, u'profile_banner_url': u'https://pbs.twimg.com/profile_banners/14499829/1464719217', u'profile_background_image_url': u'http://pbs.twimg.com/profile_background_images/543339005/who_twitter_gradientblue.png', u'name': u'WHO', u'lang': u'en', u'profile_background_tile': True, u'favourites_count': 6503, u'screen_name': u'WHO', u'notifications': None, u'url': u'http://www.who.int', u'created_at': u'Wed Apr 23 19:56:27 +0000 2008', u'contributors_enabled': False, u'time_zone': u'Bern', u'protected': False, u'translator_type': u'regular', u'is_translator': False}, u'geo': None, u'in_reply_to_user_id_str': None, u'possibly_sensitive': False, u'lang': u'en', u'extended_tweet': {u'display_text_range': [0, 275], u'entities': {u'user_mentions': [], u'symbols': [], u'hashtags': [{u'indices': [215, 228], u'text': u'VaccinesWork'}], u'urls': [], u'media': [{u'additional_media_info': {u'monetizable': False, u'embeddable': True, u'description': u'', u'title': u'5 facts on vaccines'}, u'expanded_url': u'https://twitter.com/WHO/status/978581069233496064/video/1', u'display_url': u'pic.twitter.com/IFJThGddNS', u'url': u'https://t.co/IFJThGddNS', u'media_url_https': u'https://pbs.twimg.com/ext_tw_video_thumb/961538981300142080/pu/img/OFAgaKyJfaLZiNU_.jpg', u'video_info': {u'aspect_ratio': [1, 1], u'duration_millis': 52549, u'variants': [{u'url': u'https://video.twimg.com/ext_tw_video/961538981300142080/pu/pl/Qv7e8me_nJtSv5Rl.m3u8', u'content_type': u'application/x-mpegURL'}, {u'url': u'https://video.twimg.com/ext_tw_video/961538981300142080/pu/vid/720x720/dR2Ie6HjPNS91stz.mp4', u'bitrate': 1280000, u'content_type': u'video/mp4'}, {u'url': u'https://video.twimg.com/ext_tw_video/961538981300142080/pu/vid/240x240/Thkso33ltJmvcACf.mp4', u'bitrate': 256000, u'content_type': u'video/mp4'}, {u'url': u'https://video.twimg.com/ext_tw_video/961538981300142080/pu/vid/480x480/V7Jgi78C-L5rOBXd.mp4', u'bitrate': 832000, u'content_type': u'video/mp4'}]}, u'id_str': u'961538981300142080', u'sizes': {u'small': {u'h': 680, u'resize': u'fit', u'w': 680}, u'large': {u'h': 720, u'resize': u'fit', u'w': 720}, u'medium': {u'h': 720, u'resize': u'fit', u'w': 720}, u'thumb': {u'h': 150, u'resize': u'crop', u'w': 150}}, u'indices': [276, 299], u'type': u'video', u'id': 961538981300142080, u'media_url': u'http://pbs.twimg.com/ext_tw_video_thumb/961538981300142080/pu/img/OFAgaKyJfaLZiNU_.jpg'}]}, u'extended_entities': {u'media': [{u'additional_media_info': {u'monetizable': False, u'embeddable': True, u'description': u'', u'title': u'5 facts on vaccines'}, u'expanded_url': u'https://twitter.com/WHO/status/978581069233496064/video/1', u'display_url': u'pic.twitter.com/IFJThGddNS', u'url': u'https://t.co/IFJThGddNS', u'media_url_https': u'https://pbs.twimg.com/ext_tw_video_thumb/961538981300142080/pu/img/OFAgaKyJfaLZiNU_.jpg', u'video_info': {u'aspect_ratio': [1, 1], u'duration_millis': 52549, u'variants': [{u'url': u'https://video.twimg.com/ext_tw_video/961538981300142080/pu/pl/Qv7e8me_nJtSv5Rl.m3u8', u'content_type': u'application/x-mpegURL'}, {u'url': u'https://video.twimg.com/ext_tw_video/961538981300142080/pu/vid/720x720/dR2Ie6HjPNS91stz.mp4', u'bitrate': 1280000, u'content_type': u'video/mp4'}, {u'url': u'https://video.twimg.com/ext_tw_video/961538981300142080/pu/vid/240x240/Thkso33ltJmvcACf.mp4', u'bitrate': 256000, u'content_type': u'video/mp4'}, {u'url': u'https://video.twimg.com/ext_tw_video/961538981300142080/pu/vid/480x480/V7Jgi78C-L5rOBXd.mp4', u'bitrate': 832000, u'content_type': u'video/mp4'}]}, u'id_str': u'961538981300142080', u'sizes': {u'small': {u'h': 680, u'resize': u'fit', u'w': 680}, u'large': {u'h': 720, u'resize': u'fit', u'w': 720}, u'medium': {u'h': 720, u'resize': u'fit', u'w': 720}, u'thumb': {u'h': 150, u'resize': u'crop', u'w': 150}}, u'indices': [276, 299], u'type': u'video', u'id': 961538981300142080, u'media_url': u'http://pbs.twimg.com/ext_tw_video_thumb/961538981300142080/pu/img/OFAgaKyJfaLZiNU_.jpg'}]}, u'full_text': u'Vaccine-preventable diseases include:\\nCervical cancer\\nCholera\\nDiphtheria\\nHep B\\nInfluenza\\nJapanese encephalitis\\nMeasles\\nMumps\\nPertussis\\nPneumonia\\nPolio\\nRabies\\nRotavirus\\nRubella\\nTetanus\\nTyphoid\\nVaricella\\nYellow Fever\\n#VaccinesWork!\\nHere are 5 facts on vaccines you need to know https://t.co/IFJThGddNS'}, u'created_at': u'Tue Mar 27 10:34:42 +0000 2018', u'filter_level': u'low', u'in_reply_to_status_id_str': None, u'place': None}, u'source': u'<a href=\"http://twitter.com/download/iphone\" rel=\"nofollow\">Twitter for iPhone</a>', u'in_reply_to_screen_name': None, u'id_str': u'978665561512120320', u'retweet_count': 0, u'in_reply_to_user_id': None, u'favorited': False, u'retweeted_status': {u'quote_count': 0, u'contributors': None, u'truncated': False, u'text': u'#VaccinesWork https://t.co/uh0pVlj0d0', u'is_quote_status': True, u'in_reply_to_status_id': None, u'reply_count': 0, u'id': 978631470997786624, u'favorite_count': 0, u'entities': {u'user_mentions': [], u'symbols': [], u'hashtags': [{u'indices': [0, 13], u'text': u'VaccinesWork'}], u'urls': [{u'url': u'https://t.co/uh0pVlj0d0', u'indices': [14, 37], u'expanded_url': u'https://twitter.com/WHO/status/978581069233496064', u'display_url': u'twitter.com/WHO/status/978\\u2026'}]}, u'quoted_status_id': 978581069233496064, u'retweeted': False, u'coordinates': None, u'quoted_status': {u'quote_count': 115, u'contributors': None, u'truncated': True, u'text': u'Vaccine-preventable diseases include:\\nCervical cancer\\nCholera\\nDiphtheria\\nHep B\\nInfluenza\\nJapanese encephalitis\\nMeas\\u2026 https://t.co/8SyYtzMpWB', u'is_quote_status': False, u'in_reply_to_status_id': None, u'reply_count': 29, u'id': 978581069233496064, u'favorite_count': 1706, u'entities': {u'user_mentions': [], u'symbols': [], u'hashtags': [], u'urls': [{u'url': u'https://t.co/8SyYtzMpWB', u'indices': [117, 140], u'expanded_url': u'https://twitter.com/i/web/status/978581069233496064', u'display_url': u'twitter.com/i/web/status/9\\u2026'}]}, u'retweeted': False, u'coordinates': None, u'source': u'<a href=\"https://studio.twitter.com\" rel=\"nofollow\">Media Studio</a>', u'in_reply_to_screen_name': None, u'id_str': u'978581069233496064', u'display_text_range': [0, 140], u'retweet_count': 1705, u'in_reply_to_user_id': None, u'favorited': False, u'user': {u'follow_request_sent': None, u'profile_use_background_image': True, u'default_profile_image': False, u'id': 14499829, u'default_profile': False, u'verified': True, u'profile_image_url_https': u'https://pbs.twimg.com/profile_images/875476478988886016/_l61qZdR_normal.jpg', u'profile_sidebar_fill_color': u'D9D9D9', u'profile_text_color': u'000000', u'followers_count': 4408434, u'profile_sidebar_border_color': u'8C8C8C', u'id_str': u'14499829', u'profile_background_color': u'D0ECF8', u'listed_count': 23759, u'profile_background_image_url_https': u'https://pbs.twimg.com/profile_background_images/543339005/who_twitter_gradientblue.png', u'utc_offset': 7200, u'statuses_count': 31822, u'description': u\"Official Twitter account of the World Health Organization, the United Nations' health agency\", u'friends_count': 1580, u'location': u'Geneva, Switzerland', u'profile_link_color': u'0396DB', u'profile_image_url': u'http://pbs.twimg.com/profile_images/875476478988886016/_l61qZdR_normal.jpg', u'following': None, u'geo_enabled': True, u'profile_banner_url': u'https://pbs.twimg.com/profile_banners/14499829/1464719217', u'profile_background_image_url': u'http://pbs.twimg.com/profile_background_images/543339005/who_twitter_gradientblue.png', u'name': u'WHO', u'lang': u'en', u'profile_background_tile': True, u'favourites_count': 6503, u'screen_name': u'WHO', u'notifications': None, u'url': u'http://www.who.int', u'created_at': u'Wed Apr 23 19:56:27 +0000 2008', u'contributors_enabled': False, u'time_zone': u'Bern', u'protected': False, u'translator_type': u'regular', u'is_translator': False}, u'geo': None, u'in_reply_to_user_id_str': None, u'possibly_sensitive': False, u'lang': u'en', u'extended_tweet': {u'display_text_range': [0, 275], u'entities': {u'user_mentions': [], u'symbols': [], u'hashtags': [{u'indices': [215, 228], u'text': u'VaccinesWork'}], u'urls': [], u'media': [{u'additional_media_info': {u'monetizable': False, u'embeddable': True, u'description': u'', u'title': u'5 facts on vaccines'}, u'expanded_url': u'https://twitter.com/WHO/status/978581069233496064/video/1', u'display_url': u'pic.twitter.com/IFJThGddNS', u'url': u'https://t.co/IFJThGddNS', u'media_url_https': u'https://pbs.twimg.com/ext_tw_video_thumb/961538981300142080/pu/img/OFAgaKyJfaLZiNU_.jpg', u'video_info': {u'aspect_ratio': [1, 1], u'duration_millis': 52549, u'variants': [{u'url': u'https://video.twimg.com/ext_tw_video/961538981300142080/pu/pl/Qv7e8me_nJtSv5Rl.m3u8', u'content_type': u'application/x-mpegURL'}, {u'url': u'https://video.twimg.com/ext_tw_video/961538981300142080/pu/vid/720x720/dR2Ie6HjPNS91stz.mp4', u'bitrate': 1280000, u'content_type': u'video/mp4'}, {u'url': u'https://video.twimg.com/ext_tw_video/961538981300142080/pu/vid/240x240/Thkso33ltJmvcACf.mp4', u'bitrate': 256000, u'content_type': u'video/mp4'}, {u'url': u'https://video.twimg.com/ext_tw_video/961538981300142080/pu/vid/480x480/V7Jgi78C-L5rOBXd.mp4', u'bitrate': 832000, u'content_type': u'video/mp4'}]}, u'id_str': u'961538981300142080', u'sizes': {u'small': {u'h': 680, u'resize': u'fit', u'w': 680}, u'large': {u'h': 720, u'resize': u'fit', u'w': 720}, u'medium': {u'h': 720, u'resize': u'fit', u'w': 720}, u'thumb': {u'h': 150, u'resize': u'crop', u'w': 150}}, u'indices': [276, 299], u'type': u'video', u'id': 961538981300142080, u'media_url': u'http://pbs.twimg.com/ext_tw_video_thumb/961538981300142080/pu/img/OFAgaKyJfaLZiNU_.jpg'}]}, u'extended_entities': {u'media': [{u'additional_media_info': {u'monetizable': False, u'embeddable': True, u'description': u'', u'title': u'5 facts on vaccines'}, u'expanded_url': u'https://twitter.com/WHO/status/978581069233496064/video/1', u'display_url': u'pic.twitter.com/IFJThGddNS', u'url': u'https://t.co/IFJThGddNS', u'media_url_https': u'https://pbs.twimg.com/ext_tw_video_thumb/961538981300142080/pu/img/OFAgaKyJfaLZiNU_.jpg', u'video_info': {u'aspect_ratio': [1, 1], u'duration_millis': 52549, u'variants': [{u'url': u'https://video.twimg.com/ext_tw_video/961538981300142080/pu/pl/Qv7e8me_nJtSv5Rl.m3u8', u'content_type': u'application/x-mpegURL'}, {u'url': u'https://video.twimg.com/ext_tw_video/961538981300142080/pu/vid/720x720/dR2Ie6HjPNS91stz.mp4', u'bitrate': 1280000, u'content_type': u'video/mp4'}, {u'url': u'https://video.twimg.com/ext_tw_video/961538981300142080/pu/vid/240x240/Thkso33ltJmvcACf.mp4', u'bitrate': 256000, u'content_type': u'video/mp4'}, {u'url': u'https://video.twimg.com/ext_tw_video/961538981300142080/pu/vid/480x480/V7Jgi78C-L5rOBXd.mp4', u'bitrate': 832000, u'content_type': u'video/mp4'}]}, u'id_str': u'961538981300142080', u'sizes': {u'small': {u'h': 680, u'resize': u'fit', u'w': 680}, u'large': {u'h': 720, u'resize': u'fit', u'w': 720}, u'medium': {u'h': 720, u'resize': u'fit', u'w': 720}, u'thumb': {u'h': 150, u'resize': u'crop', u'w': 150}}, u'indices': [276, 299], u'type': u'video', u'id': 961538981300142080, u'media_url': u'http://pbs.twimg.com/ext_tw_video_thumb/961538981300142080/pu/img/OFAgaKyJfaLZiNU_.jpg'}]}, u'full_text': u'Vaccine-preventable diseases include:\\nCervical cancer\\nCholera\\nDiphtheria\\nHep B\\nInfluenza\\nJapanese encephalitis\\nMeasles\\nMumps\\nPertussis\\nPneumonia\\nPolio\\nRabies\\nRotavirus\\nRubella\\nTetanus\\nTyphoid\\nVaricella\\nYellow Fever\\n#VaccinesWork!\\nHere are 5 facts on vaccines you need to know https://t.co/IFJThGddNS'}, u'created_at': u'Tue Mar 27 10:34:42 +0000 2018', u'filter_level': u'low', u'in_reply_to_status_id_str': None, u'place': None}, u'source': u'<a href=\"http://twitter.com/download/android\" rel=\"nofollow\">Twitter for Android</a>', u'in_reply_to_screen_name': None, u'id_str': u'978631470997786624', u'display_text_range': [0, 13], u'retweet_count': 2, u'in_reply_to_user_id': None, u'favorited': False, u'user': {u'follow_request_sent': None, u'profile_use_background_image': True, u'default_profile_image': False, u'id': 46400612, u'default_profile': True, u'verified': False, u'profile_image_url_https': u'https://pbs.twimg.com/profile_images/673560567915917314/t2alIY6K_normal.jpg', u'profile_sidebar_fill_color': u'DDEEF6', u'profile_text_color': u'333333', u'followers_count': 129, u'profile_sidebar_border_color': u'C0DEED', u'id_str': u'46400612', u'profile_background_color': u'C0DEED', u'listed_count': 4, u'profile_background_image_url_https': u'https://abs.twimg.com/images/themes/theme1/bg.png', u'utc_offset': 7200, u'statuses_count': 2373, u'description': u'Romans 8v28.\\nHappily Married to Chris Symons.\\nLiverpool FC Supporter- YNWA! \\nMedical Doctor - aspiring pathologist.\\nLove Travel.\\nHockey Player - Panorama.', u'friends_count': 216, u'location': u'Johannesburg, South Africa', u'profile_link_color': u'1DA1F2', u'profile_image_url': u'http://pbs.twimg.com/profile_images/673560567915917314/t2alIY6K_normal.jpg', u'following': None, u'geo_enabled': True, u'profile_banner_url': u'https://pbs.twimg.com/profile_banners/46400612/1462102903', u'profile_background_image_url': u'http://abs.twimg.com/images/themes/theme1/bg.png', u'name': u'Jessica Symons', u'lang': u'en', u'profile_background_tile': False, u'favourites_count': 26, u'screen_name': u'Jessy_Lea', u'notifications': None, u'url': None, u'created_at': u'Thu Jun 11 14:42:28 +0000 2009', u'contributors_enabled': False, u'time_zone': u'Pretoria', u'protected': False, u'translator_type': u'none', u'is_translator': False}, u'geo': None, u'in_reply_to_user_id_str': None, u'possibly_sensitive': False, u'lang': u'und', u'created_at': u'Tue Mar 27 13:54:59 +0000 2018', u'quoted_status_id_str': u'978581069233496064', u'filter_level': u'low', u'in_reply_to_status_id_str': None, u'place': None}, u'user': {u'follow_request_sent': None, u'profile_use_background_image': True, u'default_profile_image': False, u'id': 897842407160651777, u'default_profile': True, u'verified': False, u'profile_image_url_https': u'https://pbs.twimg.com/profile_images/935595526107664385/mN0P-Lvz_normal.jpg', u'profile_sidebar_fill_color': u'DDEEF6', u'profile_text_color': u'333333', u'followers_count': 145, u'profile_sidebar_border_color': u'C0DEED', u'id_str': u'897842407160651777', u'profile_background_color': u'F5F8FA', u'listed_count': 0, u'profile_background_image_url_https': u'', u'utc_offset': None, u'statuses_count': 1679, u'description': u\"\\U0001f1ff\\U0001f1fc/\\U0001f1ff\\U0001f1e6Junior Doctor/wannabe creative/aspirant vogue dancer/liker of 'things'/girl nerd. YouTube https://www.youtube.com/channel/UCNiBho0cVQYejrDjeJI4AtQ\", u'friends_count': 432, u'location': u'South Africa', u'profile_link_color': u'1DA1F2', u'profile_image_url': u'http://pbs.twimg.com/profile_images/935595526107664385/mN0P-Lvz_normal.jpg', u'following': None, u'geo_enabled': False, u'profile_banner_url': u'https://pbs.twimg.com/profile_banners/897842407160651777/1502898943', u'profile_background_image_url': u'', u'name': u'young Jedi', u'lang': u'en', u'profile_background_tile': False, u'favourites_count': 1880, u'screen_name': u'stellawildhere', u'notifications': None, u'url': u'http://stellawild.tumblr.com', u'created_at': u'Wed Aug 16 15:28:05 +0000 2017', u'contributors_enabled': False, u'time_zone': None, u'protected': False, u'translator_type': u'none', u'is_translator': False}, u'geo': None, u'in_reply_to_user_id_str': None, u'possibly_sensitive': False, u'lang': u'und', u'created_at': u'Tue Mar 27 16:10:27 +0000 2018', u'quoted_status_id_str': u'978581069233496064', u'filter_level': u'low', u'in_reply_to_status_id_str': None, u'place': None}\n",
      "False\n",
      "no extended_tweet\n",
      "RT @Jessy_Lea: #VaccinesWork https://t.co/uh0pVlj0d0\n",
      "RT @Jessy_Lea: #VaccinesWork https://t.co/uh0pVlj0d0\n",
      "{\n",
      "    \"tweet_country\": \"South Africa\",\n",
      "    \"tweet_id\": 978665561512120320,\n",
      "    \"tweet_place\": \"South Africa\",\n",
      "    \"tweet_text\": \"RT @Jessy_Lea: #VaccinesWork https://t.co/uh0pVlj0d0\",\n",
      "    \"tweet_time\": \"Tue Mar 27 16:10:27 +0000 2018\",\n",
      "    \"user_id\": 897842407160651777,\n",
      "    \"user_name\": \"young Jedi\",\n",
      "    \"user_screen_name\": \"stellawildhere\"\n",
      "}\n"
     ]
    },
    {
     "name": "stdout",
     "output_type": "stream",
     "text": [
      "one more tweet!\n",
      "{u'quote_count': 0, u'contributors': None, u'truncated': False, u'text': u'RT @OleOmondi: Please let someone reach out to Mr @UKenyatta @nhifkenya @WilliamsRuto @RailaOdinga on my behalf. Am in need of Ksh6.5m. Alm\\u2026', u'is_quote_status': False, u'in_reply_to_status_id': None, u'reply_count': 0, u'id': 978665748154503168, u'favorite_count': 0, u'entities': {u'user_mentions': [{u'id': 405783174, u'indices': [3, 13], u'id_str': u'405783174', u'screen_name': u'OleOmondi', u'name': u'Dennis Ole Omondi'}, {u'id': 183165874, u'indices': [50, 60], u'id_str': u'183165874', u'screen_name': u'UKenyatta', u'name': u'Uhuru Kenyatta'}, {u'id': 619826034, u'indices': [61, 71], u'id_str': u'619826034', u'screen_name': u'nhifkenya', u'name': u'NHIF Kenya'}, {u'id': 333935142, u'indices': [72, 85], u'id_str': u'333935142', u'screen_name': u'WilliamsRuto', u'name': u'William Samoei Ruto'}, {u'id': 300789811, u'indices': [86, 98], u'id_str': u'300789811', u'screen_name': u'RailaOdinga', u'name': u'Raila Odinga'}], u'symbols': [], u'hashtags': [], u'urls': []}, u'retweeted': False, u'coordinates': None, u'timestamp_ms': u'1522167071747', u'source': u'<a href=\"http://twitter.com/download/android\" rel=\"nofollow\">Twitter for Android</a>', u'in_reply_to_screen_name': None, u'id_str': u'978665748154503168', u'retweet_count': 0, u'in_reply_to_user_id': None, u'favorited': False, u'retweeted_status': {u'quote_count': 0, u'contributors': None, u'truncated': True, u'text': u'Please let someone reach out to Mr @UKenyatta @nhifkenya @WilliamsRuto @RailaOdinga on my behalf. Am in need of Ksh\\u2026 https://t.co/uNbIaXeRan', u'is_quote_status': False, u'in_reply_to_status_id': None, u'reply_count': 1, u'id': 978564701742301184, u'favorite_count': 32, u'entities': {u'user_mentions': [{u'id': 183165874, u'indices': [35, 45], u'id_str': u'183165874', u'screen_name': u'UKenyatta', u'name': u'Uhuru Kenyatta'}, {u'id': 619826034, u'indices': [46, 56], u'id_str': u'619826034', u'screen_name': u'nhifkenya', u'name': u'NHIF Kenya'}, {u'id': 333935142, u'indices': [57, 70], u'id_str': u'333935142', u'screen_name': u'WilliamsRuto', u'name': u'William Samoei Ruto'}, {u'id': 300789811, u'indices': [71, 83], u'id_str': u'300789811', u'screen_name': u'RailaOdinga', u'name': u'Raila Odinga'}], u'symbols': [], u'hashtags': [], u'urls': [{u'url': u'https://t.co/uNbIaXeRan', u'indices': [117, 140], u'expanded_url': u'https://twitter.com/i/web/status/978564701742301184', u'display_url': u'twitter.com/i/web/status/9\\u2026'}]}, u'retweeted': False, u'coordinates': None, u'source': u'<a href=\"http://twitter.com/download/android\" rel=\"nofollow\">Twitter for Android</a>', u'in_reply_to_screen_name': None, u'id_str': u'978564701742301184', u'retweet_count': 49, u'in_reply_to_user_id': None, u'favorited': False, u'user': {u'follow_request_sent': None, u'profile_use_background_image': True, u'default_profile_image': False, u'id': 405783174, u'default_profile': True, u'verified': False, u'profile_image_url_https': u'https://pbs.twimg.com/profile_images/974552243574747136/3NvCLC_C_normal.jpg', u'profile_sidebar_fill_color': u'DDEEF6', u'profile_text_color': u'333333', u'followers_count': 2348, u'profile_sidebar_border_color': u'C0DEED', u'id_str': u'405783174', u'profile_background_color': u'C0DEED', u'listed_count': 22, u'profile_background_image_url_https': u'https://abs.twimg.com/images/themes/theme1/bg.png', u'utc_offset': 10800, u'statuses_count': 6063, u'description': u'A regular handshake with an enemy is not a sign of reconciliation. Journalism is a call. An investigative  journalist even in hell.', u'friends_count': 476, u'location': u'Nairobi Kenya', u'profile_link_color': u'1DA1F2', u'profile_image_url': u'http://pbs.twimg.com/profile_images/974552243574747136/3NvCLC_C_normal.jpg', u'following': None, u'geo_enabled': False, u'profile_banner_url': u'https://pbs.twimg.com/profile_banners/405783174/1478870400', u'profile_background_image_url': u'http://abs.twimg.com/images/themes/theme1/bg.png', u'name': u'Dennis Ole Omondi', u'lang': u'en', u'profile_background_tile': False, u'favourites_count': 305, u'screen_name': u'OleOmondi', u'notifications': None, u'url': None, u'created_at': u'Sat Nov 05 19:56:38 +0000 2011', u'contributors_enabled': False, u'time_zone': u'Baghdad', u'protected': False, u'translator_type': u'none', u'is_translator': False}, u'geo': None, u'in_reply_to_user_id_str': None, u'lang': u'en', u'extended_tweet': {u'display_text_range': [0, 278], u'entities': {u'user_mentions': [{u'id': 183165874, u'indices': [35, 45], u'id_str': u'183165874', u'screen_name': u'UKenyatta', u'name': u'Uhuru Kenyatta'}, {u'id': 619826034, u'indices': [46, 56], u'id_str': u'619826034', u'screen_name': u'nhifkenya', u'name': u'NHIF Kenya'}, {u'id': 333935142, u'indices': [57, 70], u'id_str': u'333935142', u'screen_name': u'WilliamsRuto', u'name': u'William Samoei Ruto'}, {u'id': 300789811, u'indices': [71, 83], u'id_str': u'300789811', u'screen_name': u'RailaOdinga', u'name': u'Raila Odinga'}, {u'id': 364830542, u'indices': [209, 225], u'id_str': u'364830542', u'screen_name': u'StateHouseKenya', u'name': u'State House Kenya'}, {u'id': 1667050489, u'indices': [226, 235], u'id_str': u'1667050489', u'screen_name': u'MEsipisu', u'name': u'Manoah Esipisu MBS'}], u'symbols': [], u'hashtags': [{u'indices': [236, 249], u'text': u'MigunaMiguna'}, {u'indices': [250, 260], u'text': u'NMGExodus'}, {u'indices': [261, 278], u'text': u'IstandwithDennis'}], u'urls': []}, u'full_text': u'Please let someone reach out to Mr @UKenyatta @nhifkenya @WilliamsRuto @RailaOdinga on my behalf. Am in need of Ksh6.5m. Almost three weeks Apollo Hospital has stopped my treatment of Acute Leukemia &amp; BMT @StateHouseKenya @MEsipisu #MigunaMiguna #NMGExodus #IstandwithDennis'}, u'created_at': u'Tue Mar 27 09:29:40 +0000 2018', u'filter_level': u'low', u'in_reply_to_status_id_str': None, u'place': None}, u'user': {u'follow_request_sent': None, u'profile_use_background_image': True, u'default_profile_image': False, u'id': 253009530, u'default_profile': False, u'verified': False, u'profile_image_url_https': u'https://pbs.twimg.com/profile_images/918702971675844609/NCCJc4lr_normal.jpg', u'profile_sidebar_fill_color': u'EFEFEF', u'profile_text_color': u'333333', u'followers_count': 1541, u'profile_sidebar_border_color': u'000000', u'id_str': u'253009530', u'profile_background_color': u'DBE9ED', u'listed_count': 10, u'profile_background_image_url_https': u'https://pbs.twimg.com/profile_background_images/670563394/a417095d415a59ebd95914993ec6651a.jpeg', u'utc_offset': 10800, u'statuses_count': 9813, u'description': u'Pursuing a life and lifestyle beyond ME, MYSELF and I', u'friends_count': 1301, u'location': u'Nairobi, Kenya', u'profile_link_color': u'3348CC', u'profile_image_url': u'http://pbs.twimg.com/profile_images/918702971675844609/NCCJc4lr_normal.jpg', u'following': None, u'geo_enabled': True, u'profile_banner_url': u'https://pbs.twimg.com/profile_banners/253009530/1398170233', u'profile_background_image_url': u'http://pbs.twimg.com/profile_background_images/670563394/a417095d415a59ebd95914993ec6651a.jpeg', u'name': u'Michael Babu', u'lang': u'en', u'profile_background_tile': True, u'favourites_count': 5923, u'screen_name': u'Babu_Michael', u'notifications': None, u'url': None, u'created_at': u'Wed Feb 16 11:11:50 +0000 2011', u'contributors_enabled': False, u'time_zone': u'Nairobi', u'protected': False, u'translator_type': u'none', u'is_translator': False}, u'geo': None, u'in_reply_to_user_id_str': None, u'lang': u'en', u'created_at': u'Tue Mar 27 16:11:11 +0000 2018', u'filter_level': u'low', u'in_reply_to_status_id_str': None, u'place': None}\n",
      "False\n",
      "no extended_tweet\n",
      "RT @OleOmondi: Please let someone reach out to Mr @UKenyatta @nhifkenya @WilliamsRuto @RailaOdinga on my behalf. Am in need of Ksh6.5m. Alm…\n",
      "RT @OleOmondi: Please let someone reach out to Mr @UKenyatta @nhifkenya @WilliamsRuto @RailaOdinga on my behalf. Am in need of Ksh6.5m. Alm…\n",
      "{\n",
      "    \"tweet_country\": \"Nairobi, Kenya\",\n",
      "    \"tweet_id\": 978665748154503168,\n",
      "    \"tweet_place\": \"Nairobi, Kenya\",\n",
      "    \"tweet_text\": \"RT @OleOmondi: Please let someone reach out to Mr @UKenyatta @nhifkenya @WilliamsRuto @RailaOdinga on my behalf. Am in need of Ksh6.5m. Alm\\u2026\",\n",
      "    \"tweet_time\": \"Tue Mar 27 16:11:11 +0000 2018\",\n",
      "    \"user_id\": 253009530,\n",
      "    \"user_name\": \"Michael Babu\",\n",
      "    \"user_screen_name\": \"Babu_Michael\"\n",
      "}\n"
     ]
    }
   ],
   "source": [
    "stream.filter(track = keywords)#locations = coordinates)"
   ]
  },
  {
   "cell_type": "markdown",
   "metadata": {},
   "source": [
    "## Randomly sampling 250 tweets (with no retweets RT and no bot tweets)"
   ]
  },
  {
   "cell_type": "code",
   "execution_count": null,
   "metadata": {
    "collapsed": true
   },
   "outputs": [],
   "source": [
    "import numpy as np"
   ]
  },
  {
   "cell_type": "code",
   "execution_count": null,
   "metadata": {
    "collapsed": true
   },
   "outputs": [],
   "source": [
    "result_no_RT = [i for i in result if not i['tweet_text'].startswith('RT')]\n",
    "cleaned_result = [i for i in result_no_RT if 'More for Cancer https://t.co' not in i['tweet_text']]\n",
    "random_samples = np.random.choice(cleaned_result, size=250, replace=False).tolist()"
   ]
  },
  {
   "cell_type": "code",
   "execution_count": 153,
   "metadata": {},
   "outputs": [
    {
     "data": {
      "text/plain": [
       "250"
      ]
     },
     "execution_count": 153,
     "metadata": {},
     "output_type": "execute_result"
    }
   ],
   "source": [
    "len(random_samples)"
   ]
  },
  {
   "cell_type": "code",
   "execution_count": 154,
   "metadata": {},
   "outputs": [
    {
     "name": "stderr",
     "output_type": "stream",
     "text": [
      "/Users/edwardwu/anaconda3/envs/py27/lib/python2.7/site-packages/docx/styles/styles.py:54: UserWarning: style lookup by style_id is deprecated. Use style name as key instead.\n",
      "  warn(msg, UserWarning)\n"
     ]
    }
   ],
   "source": [
    "# adding random tweets information to word file\n",
    "from docx import Document\n",
    "#js = json.dumps(random_samples, sort_keys=True, indent=4, separators=(',', ': '))\n",
    "document = Document()\n",
    "for item in random_samples:\n",
    "    document.add_paragraph(item['tweet_text'], style='ListNumber')\n",
    "\n",
    "document.save('random_tweets.docx')\n",
    "\n",
    "# with open('random_tweets.json', 'w+') as f:\n",
    "#     f.write(js)"
   ]
  },
  {
   "cell_type": "markdown",
   "metadata": {},
   "source": [
    "## Study the specific kinds of diseases being discussed"
   ]
  },
  {
   "cell_type": "code",
   "execution_count": null,
   "metadata": {
    "collapsed": true
   },
   "outputs": [],
   "source": []
  },
  {
   "cell_type": "code",
   "execution_count": null,
   "metadata": {
    "collapsed": true
   },
   "outputs": [],
   "source": []
  }
 ],
 "metadata": {
  "kernelspec": {
   "display_name": "Python 2",
   "language": "python",
   "name": "python2"
  },
  "language_info": {
   "codemirror_mode": {
    "name": "ipython",
    "version": 2
   },
   "file_extension": ".py",
   "mimetype": "text/x-python",
   "name": "python",
   "nbconvert_exporter": "python",
   "pygments_lexer": "ipython2",
   "version": "2.7.14"
  }
 },
 "nbformat": 4,
 "nbformat_minor": 2
}
